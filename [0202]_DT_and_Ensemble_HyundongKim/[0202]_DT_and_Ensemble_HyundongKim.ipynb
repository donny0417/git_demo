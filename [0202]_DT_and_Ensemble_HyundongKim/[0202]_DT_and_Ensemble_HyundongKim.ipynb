{
  "cells": [
    {
      "cell_type": "code",
      "execution_count": null,
      "metadata": {
        "id": "DJxw84qhBq52"
      },
      "outputs": [],
      "source": [
        "# 기본적인 라이브러리(기초세션에서 다룸)\n",
        "import os\n",
        "import time\n",
        "import random\n",
        "import numpy as np\n",
        "import pandas as pd\n",
        "import matplotlib.pyplot as plt\n",
        "import seaborn as sns"
      ]
    },
    {
      "cell_type": "code",
      "execution_count": null,
      "metadata": {
        "colab": {
          "base_uri": "https://localhost:8080/"
        },
        "id": "Nqb-14hWB_mO",
        "outputId": "1ef4f72f-e25f-4d4d-d833-cb470aaf6656"
      },
      "outputs": [
        {
          "output_type": "stream",
          "name": "stdout",
          "text": [
            "Mounted at /content/drive\n"
          ]
        }
      ],
      "source": [
        "# 구글 드라이브 연동\n",
        "\n",
        "from google.colab import drive\n",
        "drive.mount('/content/drive')"
      ]
    },
    {
      "cell_type": "markdown",
      "metadata": {
        "id": "ZBe8lvybK0Qo"
      },
      "source": [
        "# 데이터"
      ]
    },
    {
      "cell_type": "markdown",
      "metadata": {
        "id": "3cF06i-bKmg3"
      },
      "source": [
        "사용할 데이터 : bike.csv"
      ]
    },
    {
      "cell_type": "markdown",
      "metadata": {
        "id": "rSJTyrlPJEjw"
      },
      "source": [
        "주어진 데이터는 서울시 공공데이터인 자전거 대여 수를 나타낸 데이터로 아래와 같다. 데이터에는 자전거 대여 수와 함께 ID, 시간, 날씨 등의 정보를 포함하고 있다."
      ]
    },
    {
      "cell_type": "markdown",
      "metadata": {
        "id": "vyWOwo6rogUm"
      },
      "source": [
        "서울시 마포구의 날짜별, 시간별 기상상황과 따릉이 대여 수 데이터\n",
        "즉, 따릉이 보관소별로 매일 자전거 대여\n",
        "\n",
        "* id : 마포구에 있는 따릉이 보관소의 고유 id\n",
        "* hour : 따릉이 보관소에서 기상상황을 측정한 시간\n",
        "* temperature : 기온\n",
        "* precipitation : 비가 오지 않았으면 0, 비가 오면 1, null은 비가 온 것도 아니고 안 온 것도 아니라서 센서가 확실히 측정불가한 상태\n",
        "* windspeed : 풍속(평균)\n",
        "* humidity : 습도\n",
        "* visibility : 시정(視程), 시계(視界)(특정 기상 상태에 따른 가시성을 의미)\n",
        "* ozone : 오존\n",
        "* pm10 : 미세먼지(머리카락 굵기의 1/5에서 1/7 크기의 미세먼지)\n",
        "* pm2.5 : 미세먼지(머리카락 굵기의 1/20에서 1/30 크기의 미세먼지)\n",
        "* count : 측정한 날짜의 따릉이 대여 수\n",
        "\n",
        "> 데이터 출처 : https://www.dacon.io/competitions/open/235576/data"
      ]
    },
    {
      "cell_type": "markdown",
      "metadata": {
        "id": "5CmGR443K3N6"
      },
      "source": [
        "# 모델 정리"
      ]
    },
    {
      "cell_type": "markdown",
      "metadata": {
        "id": "5h2CK92fK5mv"
      },
      "source": [
        "모델별 라이브러리 정리(Classifier & Regressor)\n",
        "\n",
        "각 모델은 회귀와 분류에 대한 라이브러리를 동시에 제공한다. 세션시간에 다룬 내용은 각 모델의 핵심원리에 대해 설명하기 위해 회귀나 분류 중에 더 설명하기 용이한 것을 선택하여 다루었다.\n",
        "\n",
        "예를 들어, Voting의 Regressor은 세션시간에 Hard와 Soft Voting으로 설명하여 분류모델로 생각할 수 있지만, Regressor도 가능하는 것을 알려주는 라이브러리이다.\n",
        "\n",
        "* DecisionTree(의사결정나무)\n",
        "    * DecisionTree : DecisionTreeClassifier\n",
        "    * RegressionTree(회귀나무) : DecisionTreeRegressor\n",
        "* Ensemble(앙상블)\n",
        "    * Voting : VotingClassifier & VotingRegressor\n",
        "        * VotingClassifier 참고자료\n",
        "          https://yganalyst.github.io/ml/ML_chap6-1/\n",
        "\n",
        "        * VotingRegressor 참고자료\n",
        "          1. https://runebook.dev/ko/docs/scikit_learn/modules/generated/sklearn.ensemble.votingregressor\n",
        "          2. https://scikit-learn.org/stable/modules/generated/sklearn.ensemble.VotingRegressor.html#sklearn.ensemble.VotingRegressor\n",
        "    * Bagging : RandomForestClassifier & RandomForestRegressor\n",
        "    * Boosting\n",
        "        * GBM : GradientBoostingClassifier & GradientBoostingRegressor\n",
        "        * XGBoost : XGBClassifier & XGBRegressor\n",
        "        * LightGBM : LGBClassifier & LGBRegressor\n",
        "        * CatBoost : CatBoostClassifier & CatBoostRegressor\n",
        "            * CatBoost 참고자료 : https://catboost.ai/en/docs/concepts/python-reference_catboostclassifier\n",
        "    * Stacking : https://lsjsj92.tistory.com/558\n",
        "\n",
        "  \n",
        "참고로 XGBoost, LightGBM, CatBoost은 sklearn이 아닌 다른 라이브러리를 사용한다."
      ]
    },
    {
      "cell_type": "markdown",
      "metadata": {
        "id": "-PK_SgA0jo53"
      },
      "source": [
        "# 중요 사항"
      ]
    },
    {
      "cell_type": "markdown",
      "metadata": {
        "id": "2Pm1y0MKjt4Z"
      },
      "source": [
        "이전 '[0131]_LinearRegression_and_SVM_HW'에서 다뤘던 모델인 [SVM, 회귀, 로지스틱회귀, Ridge&Lasso]의 경우에는 스케일링이 필요했다.\n",
        "\n",
        "그러나 이번 시간의 '[0202]_DecisionTree_and_Ensemble'에 다루는 모델인 [DecisionTree, Ensemble]의 경우에는 스케일링이 필요없다.\n",
        "\n",
        "> 반드시 해당 글을 끝까지 읽어주세요.\n",
        "> https://syj9700.tistory.com/56"
      ]
    },
    {
      "cell_type": "markdown",
      "metadata": {
        "id": "bxUfklCPDJA_"
      },
      "source": [
        "# 예제 1 : Regression 문제\n",
        "\n",
        "이전 '[0131]_LinearRegression_and_SVM_HW' 예제의 bike.csv에서 y값을 count(연속형)으로 하는 regression문제를 해결해보자.\n"
      ]
    },
    {
      "cell_type": "markdown",
      "metadata": {
        "id": "ezNgWRHLJEjw"
      },
      "source": [
        "서울시 마포구의 날짜별, 시간별 기상상황과 따릉이 대여 수 데이터\n",
        "즉, 따릉이 보관소별로 매일 자전거 대여\n",
        "\n",
        "* id : 마포구에 있는 따릉이 보관소의 고유 id\n",
        "* hour : 따릉이 보관소에서 기상상황을 측정한 시간\n",
        "* temperature : 기온\n",
        "* precipitation : 비가 오지 않았으면 0, 비가 오면 1, null은 비가 온 것도 아니고 안 온 것도 아니라서 센서가 확실히 측정불가한 상태\n",
        "* windspeed : 풍속(평균)\n",
        "* humidity : 습도\n",
        "* visibility : 시정(視程), 시계(視界)(특정 기상 상태에 따른 가시성을 의미)\n",
        "* ozone : 오존\n",
        "* pm10 : 미세먼지(머리카락 굵기의 1/5에서 1/7 크기의 미세먼지)\n",
        "* pm2.5 : 미세먼지(머리카락 굵기의 1/20에서 1/30 크기의 미세먼지)\n",
        "* count : 측정한 날짜의 따릉이 대여 수\n",
        "\n",
        "> 데이터 출처 : https://www.dacon.io/competitions/open/235576/data"
      ]
    },
    {
      "cell_type": "markdown",
      "metadata": {
        "id": "6tSOZTPhY6OC"
      },
      "source": [
        "## 데이터 전처리"
      ]
    },
    {
      "cell_type": "code",
      "execution_count": null,
      "metadata": {
        "colab": {
          "base_uri": "https://localhost:8080/",
          "height": 270
        },
        "id": "3lexJ-PvCAe-",
        "outputId": "993b10f1-eb80-4809-c3f5-8956342ad870"
      },
      "outputs": [
        {
          "data": {
            "text/html": [
              "\n",
              "  <div id=\"df-05456b17-45b0-454c-ab03-4c1ff4081bd6\">\n",
              "    <div class=\"colab-df-container\">\n",
              "      <div>\n",
              "<style scoped>\n",
              "    .dataframe tbody tr th:only-of-type {\n",
              "        vertical-align: middle;\n",
              "    }\n",
              "\n",
              "    .dataframe tbody tr th {\n",
              "        vertical-align: top;\n",
              "    }\n",
              "\n",
              "    .dataframe thead th {\n",
              "        text-align: right;\n",
              "    }\n",
              "</style>\n",
              "<table border=\"1\" class=\"dataframe\">\n",
              "  <thead>\n",
              "    <tr style=\"text-align: right;\">\n",
              "      <th></th>\n",
              "      <th>id</th>\n",
              "      <th>hour</th>\n",
              "      <th>hour_bef_temperature</th>\n",
              "      <th>hour_bef_precipitation</th>\n",
              "      <th>hour_bef_windspeed</th>\n",
              "      <th>hour_bef_humidity</th>\n",
              "      <th>hour_bef_visibility</th>\n",
              "      <th>hour_bef_ozone</th>\n",
              "      <th>hour_bef_pm10</th>\n",
              "      <th>hour_bef_pm2.5</th>\n",
              "      <th>count</th>\n",
              "    </tr>\n",
              "  </thead>\n",
              "  <tbody>\n",
              "    <tr>\n",
              "      <th>0</th>\n",
              "      <td>3</td>\n",
              "      <td>20</td>\n",
              "      <td>16.3</td>\n",
              "      <td>1.0</td>\n",
              "      <td>1.5</td>\n",
              "      <td>89.0</td>\n",
              "      <td>576.0</td>\n",
              "      <td>0.027</td>\n",
              "      <td>76.0</td>\n",
              "      <td>33.0</td>\n",
              "      <td>49</td>\n",
              "    </tr>\n",
              "    <tr>\n",
              "      <th>1</th>\n",
              "      <td>6</td>\n",
              "      <td>13</td>\n",
              "      <td>20.1</td>\n",
              "      <td>0.0</td>\n",
              "      <td>1.4</td>\n",
              "      <td>48.0</td>\n",
              "      <td>916.0</td>\n",
              "      <td>0.042</td>\n",
              "      <td>73.0</td>\n",
              "      <td>40.0</td>\n",
              "      <td>159</td>\n",
              "    </tr>\n",
              "    <tr>\n",
              "      <th>2</th>\n",
              "      <td>7</td>\n",
              "      <td>6</td>\n",
              "      <td>13.9</td>\n",
              "      <td>0.0</td>\n",
              "      <td>0.7</td>\n",
              "      <td>79.0</td>\n",
              "      <td>1382.0</td>\n",
              "      <td>0.033</td>\n",
              "      <td>32.0</td>\n",
              "      <td>19.0</td>\n",
              "      <td>26</td>\n",
              "    </tr>\n",
              "    <tr>\n",
              "      <th>3</th>\n",
              "      <td>8</td>\n",
              "      <td>23</td>\n",
              "      <td>8.1</td>\n",
              "      <td>0.0</td>\n",
              "      <td>2.7</td>\n",
              "      <td>54.0</td>\n",
              "      <td>946.0</td>\n",
              "      <td>0.040</td>\n",
              "      <td>75.0</td>\n",
              "      <td>64.0</td>\n",
              "      <td>57</td>\n",
              "    </tr>\n",
              "    <tr>\n",
              "      <th>4</th>\n",
              "      <td>9</td>\n",
              "      <td>18</td>\n",
              "      <td>29.5</td>\n",
              "      <td>0.0</td>\n",
              "      <td>4.8</td>\n",
              "      <td>7.0</td>\n",
              "      <td>2000.0</td>\n",
              "      <td>0.057</td>\n",
              "      <td>27.0</td>\n",
              "      <td>11.0</td>\n",
              "      <td>431</td>\n",
              "    </tr>\n",
              "  </tbody>\n",
              "</table>\n",
              "</div>\n",
              "      <button class=\"colab-df-convert\" onclick=\"convertToInteractive('df-05456b17-45b0-454c-ab03-4c1ff4081bd6')\"\n",
              "              title=\"Convert this dataframe to an interactive table.\"\n",
              "              style=\"display:none;\">\n",
              "        \n",
              "  <svg xmlns=\"http://www.w3.org/2000/svg\" height=\"24px\"viewBox=\"0 0 24 24\"\n",
              "       width=\"24px\">\n",
              "    <path d=\"M0 0h24v24H0V0z\" fill=\"none\"/>\n",
              "    <path d=\"M18.56 5.44l.94 2.06.94-2.06 2.06-.94-2.06-.94-.94-2.06-.94 2.06-2.06.94zm-11 1L8.5 8.5l.94-2.06 2.06-.94-2.06-.94L8.5 2.5l-.94 2.06-2.06.94zm10 10l.94 2.06.94-2.06 2.06-.94-2.06-.94-.94-2.06-.94 2.06-2.06.94z\"/><path d=\"M17.41 7.96l-1.37-1.37c-.4-.4-.92-.59-1.43-.59-.52 0-1.04.2-1.43.59L10.3 9.45l-7.72 7.72c-.78.78-.78 2.05 0 2.83L4 21.41c.39.39.9.59 1.41.59.51 0 1.02-.2 1.41-.59l7.78-7.78 2.81-2.81c.8-.78.8-2.07 0-2.86zM5.41 20L4 18.59l7.72-7.72 1.47 1.35L5.41 20z\"/>\n",
              "  </svg>\n",
              "      </button>\n",
              "      \n",
              "  <style>\n",
              "    .colab-df-container {\n",
              "      display:flex;\n",
              "      flex-wrap:wrap;\n",
              "      gap: 12px;\n",
              "    }\n",
              "\n",
              "    .colab-df-convert {\n",
              "      background-color: #E8F0FE;\n",
              "      border: none;\n",
              "      border-radius: 50%;\n",
              "      cursor: pointer;\n",
              "      display: none;\n",
              "      fill: #1967D2;\n",
              "      height: 32px;\n",
              "      padding: 0 0 0 0;\n",
              "      width: 32px;\n",
              "    }\n",
              "\n",
              "    .colab-df-convert:hover {\n",
              "      background-color: #E2EBFA;\n",
              "      box-shadow: 0px 1px 2px rgba(60, 64, 67, 0.3), 0px 1px 3px 1px rgba(60, 64, 67, 0.15);\n",
              "      fill: #174EA6;\n",
              "    }\n",
              "\n",
              "    [theme=dark] .colab-df-convert {\n",
              "      background-color: #3B4455;\n",
              "      fill: #D2E3FC;\n",
              "    }\n",
              "\n",
              "    [theme=dark] .colab-df-convert:hover {\n",
              "      background-color: #434B5C;\n",
              "      box-shadow: 0px 1px 3px 1px rgba(0, 0, 0, 0.15);\n",
              "      filter: drop-shadow(0px 1px 2px rgba(0, 0, 0, 0.3));\n",
              "      fill: #FFFFFF;\n",
              "    }\n",
              "  </style>\n",
              "\n",
              "      <script>\n",
              "        const buttonEl =\n",
              "          document.querySelector('#df-05456b17-45b0-454c-ab03-4c1ff4081bd6 button.colab-df-convert');\n",
              "        buttonEl.style.display =\n",
              "          google.colab.kernel.accessAllowed ? 'block' : 'none';\n",
              "\n",
              "        async function convertToInteractive(key) {\n",
              "          const element = document.querySelector('#df-05456b17-45b0-454c-ab03-4c1ff4081bd6');\n",
              "          const dataTable =\n",
              "            await google.colab.kernel.invokeFunction('convertToInteractive',\n",
              "                                                     [key], {});\n",
              "          if (!dataTable) return;\n",
              "\n",
              "          const docLinkHtml = 'Like what you see? Visit the ' +\n",
              "            '<a target=\"_blank\" href=https://colab.research.google.com/notebooks/data_table.ipynb>data table notebook</a>'\n",
              "            + ' to learn more about interactive tables.';\n",
              "          element.innerHTML = '';\n",
              "          dataTable['output_type'] = 'display_data';\n",
              "          await google.colab.output.renderOutput(dataTable, element);\n",
              "          const docLink = document.createElement('div');\n",
              "          docLink.innerHTML = docLinkHtml;\n",
              "          element.appendChild(docLink);\n",
              "        }\n",
              "      </script>\n",
              "    </div>\n",
              "  </div>\n",
              "  "
            ],
            "text/plain": [
              "   id  hour  hour_bef_temperature  hour_bef_precipitation  hour_bef_windspeed  \\\n",
              "0   3    20                  16.3                     1.0                 1.5   \n",
              "1   6    13                  20.1                     0.0                 1.4   \n",
              "2   7     6                  13.9                     0.0                 0.7   \n",
              "3   8    23                   8.1                     0.0                 2.7   \n",
              "4   9    18                  29.5                     0.0                 4.8   \n",
              "\n",
              "   hour_bef_humidity  hour_bef_visibility  hour_bef_ozone  hour_bef_pm10  \\\n",
              "0               89.0                576.0           0.027           76.0   \n",
              "1               48.0                916.0           0.042           73.0   \n",
              "2               79.0               1382.0           0.033           32.0   \n",
              "3               54.0                946.0           0.040           75.0   \n",
              "4                7.0               2000.0           0.057           27.0   \n",
              "\n",
              "   hour_bef_pm2.5  count  \n",
              "0            33.0     49  \n",
              "1            40.0    159  \n",
              "2            19.0     26  \n",
              "3            64.0     57  \n",
              "4            11.0    431  "
            ]
          },
          "execution_count": 3,
          "metadata": {},
          "output_type": "execute_result"
        }
      ],
      "source": [
        "# 데이터 불러오기\n",
        "\n",
        "path = '/content/drive/MyDrive/세션자료/bike.csv'\n",
        "bike = pd.read_csv(path)\n",
        "bike.head()"
      ]
    },
    {
      "cell_type": "code",
      "execution_count": null,
      "metadata": {
        "colab": {
          "base_uri": "https://localhost:8080/"
        },
        "id": "WS2HjdI_ZbG0",
        "outputId": "cfc333a1-0296-46af-af40-5732a98b897c"
      },
      "outputs": [
        {
          "data": {
            "text/plain": [
              "id                        0\n",
              "hour                      0\n",
              "hour_bef_temperature      0\n",
              "hour_bef_precipitation    0\n",
              "hour_bef_windspeed        0\n",
              "hour_bef_humidity         0\n",
              "hour_bef_visibility       0\n",
              "hour_bef_ozone            0\n",
              "hour_bef_pm10             0\n",
              "hour_bef_pm2.5            0\n",
              "count                     0\n",
              "dtype: int64"
            ]
          },
          "execution_count": 4,
          "metadata": {},
          "output_type": "execute_result"
        }
      ],
      "source": [
        "# 결측치 처리 -> null이 포함된 행(데이터)은 삭제\n",
        "\n",
        "bike.dropna(axis=0, inplace=True)\n",
        "bike.isnull().sum()"
      ]
    },
    {
      "cell_type": "code",
      "execution_count": null,
      "metadata": {
        "colab": {
          "base_uri": "https://localhost:8080/",
          "height": 206
        },
        "id": "oTP1ZtVvaol7",
        "outputId": "94d8c717-3d9b-4cc2-a7bc-daad034e18bc"
      },
      "outputs": [
        {
          "data": {
            "text/html": [
              "\n",
              "  <div id=\"df-0e7a81b5-23f3-463e-ac87-80ff3cf6c770\">\n",
              "    <div class=\"colab-df-container\">\n",
              "      <div>\n",
              "<style scoped>\n",
              "    .dataframe tbody tr th:only-of-type {\n",
              "        vertical-align: middle;\n",
              "    }\n",
              "\n",
              "    .dataframe tbody tr th {\n",
              "        vertical-align: top;\n",
              "    }\n",
              "\n",
              "    .dataframe thead th {\n",
              "        text-align: right;\n",
              "    }\n",
              "</style>\n",
              "<table border=\"1\" class=\"dataframe\">\n",
              "  <thead>\n",
              "    <tr style=\"text-align: right;\">\n",
              "      <th></th>\n",
              "      <th>hbp1</th>\n",
              "      <th>hbp2</th>\n",
              "    </tr>\n",
              "  </thead>\n",
              "  <tbody>\n",
              "    <tr>\n",
              "      <th>0</th>\n",
              "      <td>0</td>\n",
              "      <td>1</td>\n",
              "    </tr>\n",
              "    <tr>\n",
              "      <th>1</th>\n",
              "      <td>1</td>\n",
              "      <td>0</td>\n",
              "    </tr>\n",
              "    <tr>\n",
              "      <th>2</th>\n",
              "      <td>1</td>\n",
              "      <td>0</td>\n",
              "    </tr>\n",
              "    <tr>\n",
              "      <th>3</th>\n",
              "      <td>1</td>\n",
              "      <td>0</td>\n",
              "    </tr>\n",
              "    <tr>\n",
              "      <th>4</th>\n",
              "      <td>1</td>\n",
              "      <td>0</td>\n",
              "    </tr>\n",
              "  </tbody>\n",
              "</table>\n",
              "</div>\n",
              "      <button class=\"colab-df-convert\" onclick=\"convertToInteractive('df-0e7a81b5-23f3-463e-ac87-80ff3cf6c770')\"\n",
              "              title=\"Convert this dataframe to an interactive table.\"\n",
              "              style=\"display:none;\">\n",
              "        \n",
              "  <svg xmlns=\"http://www.w3.org/2000/svg\" height=\"24px\"viewBox=\"0 0 24 24\"\n",
              "       width=\"24px\">\n",
              "    <path d=\"M0 0h24v24H0V0z\" fill=\"none\"/>\n",
              "    <path d=\"M18.56 5.44l.94 2.06.94-2.06 2.06-.94-2.06-.94-.94-2.06-.94 2.06-2.06.94zm-11 1L8.5 8.5l.94-2.06 2.06-.94-2.06-.94L8.5 2.5l-.94 2.06-2.06.94zm10 10l.94 2.06.94-2.06 2.06-.94-2.06-.94-.94-2.06-.94 2.06-2.06.94z\"/><path d=\"M17.41 7.96l-1.37-1.37c-.4-.4-.92-.59-1.43-.59-.52 0-1.04.2-1.43.59L10.3 9.45l-7.72 7.72c-.78.78-.78 2.05 0 2.83L4 21.41c.39.39.9.59 1.41.59.51 0 1.02-.2 1.41-.59l7.78-7.78 2.81-2.81c.8-.78.8-2.07 0-2.86zM5.41 20L4 18.59l7.72-7.72 1.47 1.35L5.41 20z\"/>\n",
              "  </svg>\n",
              "      </button>\n",
              "      \n",
              "  <style>\n",
              "    .colab-df-container {\n",
              "      display:flex;\n",
              "      flex-wrap:wrap;\n",
              "      gap: 12px;\n",
              "    }\n",
              "\n",
              "    .colab-df-convert {\n",
              "      background-color: #E8F0FE;\n",
              "      border: none;\n",
              "      border-radius: 50%;\n",
              "      cursor: pointer;\n",
              "      display: none;\n",
              "      fill: #1967D2;\n",
              "      height: 32px;\n",
              "      padding: 0 0 0 0;\n",
              "      width: 32px;\n",
              "    }\n",
              "\n",
              "    .colab-df-convert:hover {\n",
              "      background-color: #E2EBFA;\n",
              "      box-shadow: 0px 1px 2px rgba(60, 64, 67, 0.3), 0px 1px 3px 1px rgba(60, 64, 67, 0.15);\n",
              "      fill: #174EA6;\n",
              "    }\n",
              "\n",
              "    [theme=dark] .colab-df-convert {\n",
              "      background-color: #3B4455;\n",
              "      fill: #D2E3FC;\n",
              "    }\n",
              "\n",
              "    [theme=dark] .colab-df-convert:hover {\n",
              "      background-color: #434B5C;\n",
              "      box-shadow: 0px 1px 3px 1px rgba(0, 0, 0, 0.15);\n",
              "      filter: drop-shadow(0px 1px 2px rgba(0, 0, 0, 0.3));\n",
              "      fill: #FFFFFF;\n",
              "    }\n",
              "  </style>\n",
              "\n",
              "      <script>\n",
              "        const buttonEl =\n",
              "          document.querySelector('#df-0e7a81b5-23f3-463e-ac87-80ff3cf6c770 button.colab-df-convert');\n",
              "        buttonEl.style.display =\n",
              "          google.colab.kernel.accessAllowed ? 'block' : 'none';\n",
              "\n",
              "        async function convertToInteractive(key) {\n",
              "          const element = document.querySelector('#df-0e7a81b5-23f3-463e-ac87-80ff3cf6c770');\n",
              "          const dataTable =\n",
              "            await google.colab.kernel.invokeFunction('convertToInteractive',\n",
              "                                                     [key], {});\n",
              "          if (!dataTable) return;\n",
              "\n",
              "          const docLinkHtml = 'Like what you see? Visit the ' +\n",
              "            '<a target=\"_blank\" href=https://colab.research.google.com/notebooks/data_table.ipynb>data table notebook</a>'\n",
              "            + ' to learn more about interactive tables.';\n",
              "          element.innerHTML = '';\n",
              "          dataTable['output_type'] = 'display_data';\n",
              "          await google.colab.output.renderOutput(dataTable, element);\n",
              "          const docLink = document.createElement('div');\n",
              "          docLink.innerHTML = docLinkHtml;\n",
              "          element.appendChild(docLink);\n",
              "        }\n",
              "      </script>\n",
              "    </div>\n",
              "  </div>\n",
              "  "
            ],
            "text/plain": [
              "   hbp1  hbp2\n",
              "0     0     1\n",
              "1     1     0\n",
              "2     1     0\n",
              "3     1     0\n",
              "4     1     0"
            ]
          },
          "execution_count": 5,
          "metadata": {},
          "output_type": "execute_result"
        }
      ],
      "source": [
        "# 범주형 X 데이터 one-hot encoding\n",
        "\n",
        "temp = pd.get_dummies(bike.loc[:,'hour_bef_precipitation'])\n",
        "temp.columns = ['hbp1','hbp2'] # 2개의 class(binary-class)이다.\n",
        "temp.head()"
      ]
    },
    {
      "cell_type": "code",
      "execution_count": null,
      "metadata": {
        "colab": {
          "base_uri": "https://localhost:8080/",
          "height": 270
        },
        "id": "oUWfb947lYL2",
        "outputId": "ee2c39e0-ae31-40c1-9af4-d1e45e34a7d7"
      },
      "outputs": [
        {
          "data": {
            "text/html": [
              "\n",
              "  <div id=\"df-45ffeab4-3c68-4a20-91a8-522e11d4d87e\">\n",
              "    <div class=\"colab-df-container\">\n",
              "      <div>\n",
              "<style scoped>\n",
              "    .dataframe tbody tr th:only-of-type {\n",
              "        vertical-align: middle;\n",
              "    }\n",
              "\n",
              "    .dataframe tbody tr th {\n",
              "        vertical-align: top;\n",
              "    }\n",
              "\n",
              "    .dataframe thead th {\n",
              "        text-align: right;\n",
              "    }\n",
              "</style>\n",
              "<table border=\"1\" class=\"dataframe\">\n",
              "  <thead>\n",
              "    <tr style=\"text-align: right;\">\n",
              "      <th></th>\n",
              "      <th>id</th>\n",
              "      <th>hour</th>\n",
              "      <th>hour_bef_temperature</th>\n",
              "      <th>hour_bef_windspeed</th>\n",
              "      <th>hour_bef_humidity</th>\n",
              "      <th>hour_bef_visibility</th>\n",
              "      <th>hour_bef_ozone</th>\n",
              "      <th>hour_bef_pm10</th>\n",
              "      <th>hour_bef_pm2.5</th>\n",
              "      <th>count</th>\n",
              "      <th>hbp1</th>\n",
              "      <th>hbp2</th>\n",
              "    </tr>\n",
              "  </thead>\n",
              "  <tbody>\n",
              "    <tr>\n",
              "      <th>0</th>\n",
              "      <td>3</td>\n",
              "      <td>20</td>\n",
              "      <td>16.3</td>\n",
              "      <td>1.5</td>\n",
              "      <td>89.0</td>\n",
              "      <td>576.0</td>\n",
              "      <td>0.027</td>\n",
              "      <td>76.0</td>\n",
              "      <td>33.0</td>\n",
              "      <td>49</td>\n",
              "      <td>0</td>\n",
              "      <td>1</td>\n",
              "    </tr>\n",
              "    <tr>\n",
              "      <th>1</th>\n",
              "      <td>6</td>\n",
              "      <td>13</td>\n",
              "      <td>20.1</td>\n",
              "      <td>1.4</td>\n",
              "      <td>48.0</td>\n",
              "      <td>916.0</td>\n",
              "      <td>0.042</td>\n",
              "      <td>73.0</td>\n",
              "      <td>40.0</td>\n",
              "      <td>159</td>\n",
              "      <td>1</td>\n",
              "      <td>0</td>\n",
              "    </tr>\n",
              "    <tr>\n",
              "      <th>2</th>\n",
              "      <td>7</td>\n",
              "      <td>6</td>\n",
              "      <td>13.9</td>\n",
              "      <td>0.7</td>\n",
              "      <td>79.0</td>\n",
              "      <td>1382.0</td>\n",
              "      <td>0.033</td>\n",
              "      <td>32.0</td>\n",
              "      <td>19.0</td>\n",
              "      <td>26</td>\n",
              "      <td>1</td>\n",
              "      <td>0</td>\n",
              "    </tr>\n",
              "    <tr>\n",
              "      <th>3</th>\n",
              "      <td>8</td>\n",
              "      <td>23</td>\n",
              "      <td>8.1</td>\n",
              "      <td>2.7</td>\n",
              "      <td>54.0</td>\n",
              "      <td>946.0</td>\n",
              "      <td>0.040</td>\n",
              "      <td>75.0</td>\n",
              "      <td>64.0</td>\n",
              "      <td>57</td>\n",
              "      <td>1</td>\n",
              "      <td>0</td>\n",
              "    </tr>\n",
              "    <tr>\n",
              "      <th>4</th>\n",
              "      <td>9</td>\n",
              "      <td>18</td>\n",
              "      <td>29.5</td>\n",
              "      <td>4.8</td>\n",
              "      <td>7.0</td>\n",
              "      <td>2000.0</td>\n",
              "      <td>0.057</td>\n",
              "      <td>27.0</td>\n",
              "      <td>11.0</td>\n",
              "      <td>431</td>\n",
              "      <td>1</td>\n",
              "      <td>0</td>\n",
              "    </tr>\n",
              "  </tbody>\n",
              "</table>\n",
              "</div>\n",
              "      <button class=\"colab-df-convert\" onclick=\"convertToInteractive('df-45ffeab4-3c68-4a20-91a8-522e11d4d87e')\"\n",
              "              title=\"Convert this dataframe to an interactive table.\"\n",
              "              style=\"display:none;\">\n",
              "        \n",
              "  <svg xmlns=\"http://www.w3.org/2000/svg\" height=\"24px\"viewBox=\"0 0 24 24\"\n",
              "       width=\"24px\">\n",
              "    <path d=\"M0 0h24v24H0V0z\" fill=\"none\"/>\n",
              "    <path d=\"M18.56 5.44l.94 2.06.94-2.06 2.06-.94-2.06-.94-.94-2.06-.94 2.06-2.06.94zm-11 1L8.5 8.5l.94-2.06 2.06-.94-2.06-.94L8.5 2.5l-.94 2.06-2.06.94zm10 10l.94 2.06.94-2.06 2.06-.94-2.06-.94-.94-2.06-.94 2.06-2.06.94z\"/><path d=\"M17.41 7.96l-1.37-1.37c-.4-.4-.92-.59-1.43-.59-.52 0-1.04.2-1.43.59L10.3 9.45l-7.72 7.72c-.78.78-.78 2.05 0 2.83L4 21.41c.39.39.9.59 1.41.59.51 0 1.02-.2 1.41-.59l7.78-7.78 2.81-2.81c.8-.78.8-2.07 0-2.86zM5.41 20L4 18.59l7.72-7.72 1.47 1.35L5.41 20z\"/>\n",
              "  </svg>\n",
              "      </button>\n",
              "      \n",
              "  <style>\n",
              "    .colab-df-container {\n",
              "      display:flex;\n",
              "      flex-wrap:wrap;\n",
              "      gap: 12px;\n",
              "    }\n",
              "\n",
              "    .colab-df-convert {\n",
              "      background-color: #E8F0FE;\n",
              "      border: none;\n",
              "      border-radius: 50%;\n",
              "      cursor: pointer;\n",
              "      display: none;\n",
              "      fill: #1967D2;\n",
              "      height: 32px;\n",
              "      padding: 0 0 0 0;\n",
              "      width: 32px;\n",
              "    }\n",
              "\n",
              "    .colab-df-convert:hover {\n",
              "      background-color: #E2EBFA;\n",
              "      box-shadow: 0px 1px 2px rgba(60, 64, 67, 0.3), 0px 1px 3px 1px rgba(60, 64, 67, 0.15);\n",
              "      fill: #174EA6;\n",
              "    }\n",
              "\n",
              "    [theme=dark] .colab-df-convert {\n",
              "      background-color: #3B4455;\n",
              "      fill: #D2E3FC;\n",
              "    }\n",
              "\n",
              "    [theme=dark] .colab-df-convert:hover {\n",
              "      background-color: #434B5C;\n",
              "      box-shadow: 0px 1px 3px 1px rgba(0, 0, 0, 0.15);\n",
              "      filter: drop-shadow(0px 1px 2px rgba(0, 0, 0, 0.3));\n",
              "      fill: #FFFFFF;\n",
              "    }\n",
              "  </style>\n",
              "\n",
              "      <script>\n",
              "        const buttonEl =\n",
              "          document.querySelector('#df-45ffeab4-3c68-4a20-91a8-522e11d4d87e button.colab-df-convert');\n",
              "        buttonEl.style.display =\n",
              "          google.colab.kernel.accessAllowed ? 'block' : 'none';\n",
              "\n",
              "        async function convertToInteractive(key) {\n",
              "          const element = document.querySelector('#df-45ffeab4-3c68-4a20-91a8-522e11d4d87e');\n",
              "          const dataTable =\n",
              "            await google.colab.kernel.invokeFunction('convertToInteractive',\n",
              "                                                     [key], {});\n",
              "          if (!dataTable) return;\n",
              "\n",
              "          const docLinkHtml = 'Like what you see? Visit the ' +\n",
              "            '<a target=\"_blank\" href=https://colab.research.google.com/notebooks/data_table.ipynb>data table notebook</a>'\n",
              "            + ' to learn more about interactive tables.';\n",
              "          element.innerHTML = '';\n",
              "          dataTable['output_type'] = 'display_data';\n",
              "          await google.colab.output.renderOutput(dataTable, element);\n",
              "          const docLink = document.createElement('div');\n",
              "          docLink.innerHTML = docLinkHtml;\n",
              "          element.appendChild(docLink);\n",
              "        }\n",
              "      </script>\n",
              "    </div>\n",
              "  </div>\n",
              "  "
            ],
            "text/plain": [
              "   id  hour  hour_bef_temperature  hour_bef_windspeed  hour_bef_humidity  \\\n",
              "0   3    20                  16.3                 1.5               89.0   \n",
              "1   6    13                  20.1                 1.4               48.0   \n",
              "2   7     6                  13.9                 0.7               79.0   \n",
              "3   8    23                   8.1                 2.7               54.0   \n",
              "4   9    18                  29.5                 4.8                7.0   \n",
              "\n",
              "   hour_bef_visibility  hour_bef_ozone  hour_bef_pm10  hour_bef_pm2.5  count  \\\n",
              "0                576.0           0.027           76.0            33.0     49   \n",
              "1                916.0           0.042           73.0            40.0    159   \n",
              "2               1382.0           0.033           32.0            19.0     26   \n",
              "3                946.0           0.040           75.0            64.0     57   \n",
              "4               2000.0           0.057           27.0            11.0    431   \n",
              "\n",
              "   hbp1  hbp2  \n",
              "0     0     1  \n",
              "1     1     0  \n",
              "2     1     0  \n",
              "3     1     0  \n",
              "4     1     0  "
            ]
          },
          "execution_count": 6,
          "metadata": {},
          "output_type": "execute_result"
        }
      ],
      "source": [
        "# one-hot encoding한 '범주형 X 데이터'로 바꿔주기\n",
        "\n",
        "bike = bike.drop(['hour_bef_precipitation'], axis=1)\n",
        "bike = pd.concat([bike, temp], axis=1)\n",
        "bike.head()"
      ]
    },
    {
      "cell_type": "code",
      "execution_count": null,
      "metadata": {
        "id": "BBom-RX2lnLl"
      },
      "outputs": [],
      "source": [
        "# X, y 를 8: 2로 데이터 분할\n",
        "# random_state = 1로 지정\n",
        "\n",
        "y_label = bike.loc[:,'count']\n",
        "X_features = bike.drop(['count'], axis=1)"
      ]
    },
    {
      "cell_type": "code",
      "execution_count": null,
      "metadata": {
        "colab": {
          "base_uri": "https://localhost:8080/",
          "height": 394
        },
        "id": "4yUO5iQFk7cp",
        "outputId": "4fbdbd2b-9ce7-4328-8404-0429ab58f366"
      },
      "outputs": [
        {
          "data": {
            "text/html": [
              "\n",
              "  <div id=\"df-b713d84e-3c51-44c1-92ef-555a93390825\">\n",
              "    <div class=\"colab-df-container\">\n",
              "      <div>\n",
              "<style scoped>\n",
              "    .dataframe tbody tr th:only-of-type {\n",
              "        vertical-align: middle;\n",
              "    }\n",
              "\n",
              "    .dataframe tbody tr th {\n",
              "        vertical-align: top;\n",
              "    }\n",
              "\n",
              "    .dataframe thead th {\n",
              "        text-align: right;\n",
              "    }\n",
              "</style>\n",
              "<table border=\"1\" class=\"dataframe\">\n",
              "  <thead>\n",
              "    <tr style=\"text-align: right;\">\n",
              "      <th></th>\n",
              "      <th>features</th>\n",
              "      <th>VIF Factor</th>\n",
              "    </tr>\n",
              "  </thead>\n",
              "  <tbody>\n",
              "    <tr>\n",
              "      <th>0</th>\n",
              "      <td>id</td>\n",
              "      <td>1.009803</td>\n",
              "    </tr>\n",
              "    <tr>\n",
              "      <th>1</th>\n",
              "      <td>hour</td>\n",
              "      <td>1.415846</td>\n",
              "    </tr>\n",
              "    <tr>\n",
              "      <th>2</th>\n",
              "      <td>hour_bef_temperature</td>\n",
              "      <td>1.709341</td>\n",
              "    </tr>\n",
              "    <tr>\n",
              "      <th>3</th>\n",
              "      <td>hour_bef_windspeed</td>\n",
              "      <td>1.699543</td>\n",
              "    </tr>\n",
              "    <tr>\n",
              "      <th>4</th>\n",
              "      <td>hour_bef_humidity</td>\n",
              "      <td>3.058976</td>\n",
              "    </tr>\n",
              "    <tr>\n",
              "      <th>5</th>\n",
              "      <td>hour_bef_visibility</td>\n",
              "      <td>3.723676</td>\n",
              "    </tr>\n",
              "    <tr>\n",
              "      <th>6</th>\n",
              "      <td>hour_bef_ozone</td>\n",
              "      <td>1.766954</td>\n",
              "    </tr>\n",
              "    <tr>\n",
              "      <th>7</th>\n",
              "      <td>hour_bef_pm10</td>\n",
              "      <td>1.664517</td>\n",
              "    </tr>\n",
              "    <tr>\n",
              "      <th>8</th>\n",
              "      <td>hour_bef_pm2.5</td>\n",
              "      <td>2.123214</td>\n",
              "    </tr>\n",
              "    <tr>\n",
              "      <th>9</th>\n",
              "      <td>hbp1</td>\n",
              "      <td>174.277772</td>\n",
              "    </tr>\n",
              "    <tr>\n",
              "      <th>10</th>\n",
              "      <td>hbp2</td>\n",
              "      <td>6.463398</td>\n",
              "    </tr>\n",
              "  </tbody>\n",
              "</table>\n",
              "</div>\n",
              "      <button class=\"colab-df-convert\" onclick=\"convertToInteractive('df-b713d84e-3c51-44c1-92ef-555a93390825')\"\n",
              "              title=\"Convert this dataframe to an interactive table.\"\n",
              "              style=\"display:none;\">\n",
              "        \n",
              "  <svg xmlns=\"http://www.w3.org/2000/svg\" height=\"24px\"viewBox=\"0 0 24 24\"\n",
              "       width=\"24px\">\n",
              "    <path d=\"M0 0h24v24H0V0z\" fill=\"none\"/>\n",
              "    <path d=\"M18.56 5.44l.94 2.06.94-2.06 2.06-.94-2.06-.94-.94-2.06-.94 2.06-2.06.94zm-11 1L8.5 8.5l.94-2.06 2.06-.94-2.06-.94L8.5 2.5l-.94 2.06-2.06.94zm10 10l.94 2.06.94-2.06 2.06-.94-2.06-.94-.94-2.06-.94 2.06-2.06.94z\"/><path d=\"M17.41 7.96l-1.37-1.37c-.4-.4-.92-.59-1.43-.59-.52 0-1.04.2-1.43.59L10.3 9.45l-7.72 7.72c-.78.78-.78 2.05 0 2.83L4 21.41c.39.39.9.59 1.41.59.51 0 1.02-.2 1.41-.59l7.78-7.78 2.81-2.81c.8-.78.8-2.07 0-2.86zM5.41 20L4 18.59l7.72-7.72 1.47 1.35L5.41 20z\"/>\n",
              "  </svg>\n",
              "      </button>\n",
              "      \n",
              "  <style>\n",
              "    .colab-df-container {\n",
              "      display:flex;\n",
              "      flex-wrap:wrap;\n",
              "      gap: 12px;\n",
              "    }\n",
              "\n",
              "    .colab-df-convert {\n",
              "      background-color: #E8F0FE;\n",
              "      border: none;\n",
              "      border-radius: 50%;\n",
              "      cursor: pointer;\n",
              "      display: none;\n",
              "      fill: #1967D2;\n",
              "      height: 32px;\n",
              "      padding: 0 0 0 0;\n",
              "      width: 32px;\n",
              "    }\n",
              "\n",
              "    .colab-df-convert:hover {\n",
              "      background-color: #E2EBFA;\n",
              "      box-shadow: 0px 1px 2px rgba(60, 64, 67, 0.3), 0px 1px 3px 1px rgba(60, 64, 67, 0.15);\n",
              "      fill: #174EA6;\n",
              "    }\n",
              "\n",
              "    [theme=dark] .colab-df-convert {\n",
              "      background-color: #3B4455;\n",
              "      fill: #D2E3FC;\n",
              "    }\n",
              "\n",
              "    [theme=dark] .colab-df-convert:hover {\n",
              "      background-color: #434B5C;\n",
              "      box-shadow: 0px 1px 3px 1px rgba(0, 0, 0, 0.15);\n",
              "      filter: drop-shadow(0px 1px 2px rgba(0, 0, 0, 0.3));\n",
              "      fill: #FFFFFF;\n",
              "    }\n",
              "  </style>\n",
              "\n",
              "      <script>\n",
              "        const buttonEl =\n",
              "          document.querySelector('#df-b713d84e-3c51-44c1-92ef-555a93390825 button.colab-df-convert');\n",
              "        buttonEl.style.display =\n",
              "          google.colab.kernel.accessAllowed ? 'block' : 'none';\n",
              "\n",
              "        async function convertToInteractive(key) {\n",
              "          const element = document.querySelector('#df-b713d84e-3c51-44c1-92ef-555a93390825');\n",
              "          const dataTable =\n",
              "            await google.colab.kernel.invokeFunction('convertToInteractive',\n",
              "                                                     [key], {});\n",
              "          if (!dataTable) return;\n",
              "\n",
              "          const docLinkHtml = 'Like what you see? Visit the ' +\n",
              "            '<a target=\"_blank\" href=https://colab.research.google.com/notebooks/data_table.ipynb>data table notebook</a>'\n",
              "            + ' to learn more about interactive tables.';\n",
              "          element.innerHTML = '';\n",
              "          dataTable['output_type'] = 'display_data';\n",
              "          await google.colab.output.renderOutput(dataTable, element);\n",
              "          const docLink = document.createElement('div');\n",
              "          docLink.innerHTML = docLinkHtml;\n",
              "          element.appendChild(docLink);\n",
              "        }\n",
              "      </script>\n",
              "    </div>\n",
              "  </div>\n",
              "  "
            ],
            "text/plain": [
              "                features  VIF Factor\n",
              "0                     id    1.009803\n",
              "1                   hour    1.415846\n",
              "2   hour_bef_temperature    1.709341\n",
              "3     hour_bef_windspeed    1.699543\n",
              "4      hour_bef_humidity    3.058976\n",
              "5    hour_bef_visibility    3.723676\n",
              "6         hour_bef_ozone    1.766954\n",
              "7          hour_bef_pm10    1.664517\n",
              "8         hour_bef_pm2.5    2.123214\n",
              "9                   hbp1  174.277772\n",
              "10                  hbp2    6.463398"
            ]
          },
          "execution_count": 8,
          "metadata": {},
          "output_type": "execute_result"
        }
      ],
      "source": [
        "# 다중공선성 고려 (1)\n",
        "\n",
        "from statsmodels.stats.outliers_influence import variance_inflation_factor\n",
        "\n",
        "# 값을 저장할 데이터프레임 변수\n",
        "vif = pd.DataFrame()\n",
        "\n",
        "# 첫번째 features축은 columns이름으로\n",
        "vif[\"features\"] = X_features.columns # 독립변수들의 이름들로 구성된 features열 추가\n",
        "\n",
        "# 두번째 축은 VIF값을 계산하여 집어넣기\n",
        "vif[\"VIF Factor\"] = [variance_inflation_factor(X_features.values, i) for i in range(X_features.shape[1])] # 리스트내포\n",
        "\n",
        "vif"
      ]
    },
    {
      "cell_type": "code",
      "execution_count": null,
      "metadata": {
        "id": "XfRJsXnfluXm"
      },
      "outputs": [],
      "source": [
        "# vif가 가장 큰 hbp1열 제거\n",
        "\n",
        "X2_features = X_features.drop('hbp1', axis=1)"
      ]
    },
    {
      "cell_type": "code",
      "execution_count": null,
      "metadata": {
        "colab": {
          "base_uri": "https://localhost:8080/",
          "height": 362
        },
        "id": "kjDUXdL_l9gs",
        "outputId": "1c488c87-ba7d-40a8-eea1-dd5b78a00ed1"
      },
      "outputs": [
        {
          "data": {
            "text/html": [
              "\n",
              "  <div id=\"df-c6d51022-84d9-4095-b45e-4816d595ae44\">\n",
              "    <div class=\"colab-df-container\">\n",
              "      <div>\n",
              "<style scoped>\n",
              "    .dataframe tbody tr th:only-of-type {\n",
              "        vertical-align: middle;\n",
              "    }\n",
              "\n",
              "    .dataframe tbody tr th {\n",
              "        vertical-align: top;\n",
              "    }\n",
              "\n",
              "    .dataframe thead th {\n",
              "        text-align: right;\n",
              "    }\n",
              "</style>\n",
              "<table border=\"1\" class=\"dataframe\">\n",
              "  <thead>\n",
              "    <tr style=\"text-align: right;\">\n",
              "      <th></th>\n",
              "      <th>features</th>\n",
              "      <th>VIF Factor</th>\n",
              "    </tr>\n",
              "  </thead>\n",
              "  <tbody>\n",
              "    <tr>\n",
              "      <th>0</th>\n",
              "      <td>id</td>\n",
              "      <td>4.027977</td>\n",
              "    </tr>\n",
              "    <tr>\n",
              "      <th>1</th>\n",
              "      <td>hour</td>\n",
              "      <td>5.860958</td>\n",
              "    </tr>\n",
              "    <tr>\n",
              "      <th>2</th>\n",
              "      <td>hour_bef_temperature</td>\n",
              "      <td>15.775746</td>\n",
              "    </tr>\n",
              "    <tr>\n",
              "      <th>3</th>\n",
              "      <td>hour_bef_windspeed</td>\n",
              "      <td>6.993526</td>\n",
              "    </tr>\n",
              "    <tr>\n",
              "      <th>4</th>\n",
              "      <td>hour_bef_humidity</td>\n",
              "      <td>5.835661</td>\n",
              "    </tr>\n",
              "    <tr>\n",
              "      <th>5</th>\n",
              "      <td>hour_bef_visibility</td>\n",
              "      <td>7.415170</td>\n",
              "    </tr>\n",
              "    <tr>\n",
              "      <th>6</th>\n",
              "      <td>hour_bef_ozone</td>\n",
              "      <td>8.852221</td>\n",
              "    </tr>\n",
              "    <tr>\n",
              "      <th>7</th>\n",
              "      <td>hour_bef_pm10</td>\n",
              "      <td>5.679270</td>\n",
              "    </tr>\n",
              "    <tr>\n",
              "      <th>8</th>\n",
              "      <td>hour_bef_pm2.5</td>\n",
              "      <td>8.222608</td>\n",
              "    </tr>\n",
              "    <tr>\n",
              "      <th>9</th>\n",
              "      <td>hbp2</td>\n",
              "      <td>1.155935</td>\n",
              "    </tr>\n",
              "  </tbody>\n",
              "</table>\n",
              "</div>\n",
              "      <button class=\"colab-df-convert\" onclick=\"convertToInteractive('df-c6d51022-84d9-4095-b45e-4816d595ae44')\"\n",
              "              title=\"Convert this dataframe to an interactive table.\"\n",
              "              style=\"display:none;\">\n",
              "        \n",
              "  <svg xmlns=\"http://www.w3.org/2000/svg\" height=\"24px\"viewBox=\"0 0 24 24\"\n",
              "       width=\"24px\">\n",
              "    <path d=\"M0 0h24v24H0V0z\" fill=\"none\"/>\n",
              "    <path d=\"M18.56 5.44l.94 2.06.94-2.06 2.06-.94-2.06-.94-.94-2.06-.94 2.06-2.06.94zm-11 1L8.5 8.5l.94-2.06 2.06-.94-2.06-.94L8.5 2.5l-.94 2.06-2.06.94zm10 10l.94 2.06.94-2.06 2.06-.94-2.06-.94-.94-2.06-.94 2.06-2.06.94z\"/><path d=\"M17.41 7.96l-1.37-1.37c-.4-.4-.92-.59-1.43-.59-.52 0-1.04.2-1.43.59L10.3 9.45l-7.72 7.72c-.78.78-.78 2.05 0 2.83L4 21.41c.39.39.9.59 1.41.59.51 0 1.02-.2 1.41-.59l7.78-7.78 2.81-2.81c.8-.78.8-2.07 0-2.86zM5.41 20L4 18.59l7.72-7.72 1.47 1.35L5.41 20z\"/>\n",
              "  </svg>\n",
              "      </button>\n",
              "      \n",
              "  <style>\n",
              "    .colab-df-container {\n",
              "      display:flex;\n",
              "      flex-wrap:wrap;\n",
              "      gap: 12px;\n",
              "    }\n",
              "\n",
              "    .colab-df-convert {\n",
              "      background-color: #E8F0FE;\n",
              "      border: none;\n",
              "      border-radius: 50%;\n",
              "      cursor: pointer;\n",
              "      display: none;\n",
              "      fill: #1967D2;\n",
              "      height: 32px;\n",
              "      padding: 0 0 0 0;\n",
              "      width: 32px;\n",
              "    }\n",
              "\n",
              "    .colab-df-convert:hover {\n",
              "      background-color: #E2EBFA;\n",
              "      box-shadow: 0px 1px 2px rgba(60, 64, 67, 0.3), 0px 1px 3px 1px rgba(60, 64, 67, 0.15);\n",
              "      fill: #174EA6;\n",
              "    }\n",
              "\n",
              "    [theme=dark] .colab-df-convert {\n",
              "      background-color: #3B4455;\n",
              "      fill: #D2E3FC;\n",
              "    }\n",
              "\n",
              "    [theme=dark] .colab-df-convert:hover {\n",
              "      background-color: #434B5C;\n",
              "      box-shadow: 0px 1px 3px 1px rgba(0, 0, 0, 0.15);\n",
              "      filter: drop-shadow(0px 1px 2px rgba(0, 0, 0, 0.3));\n",
              "      fill: #FFFFFF;\n",
              "    }\n",
              "  </style>\n",
              "\n",
              "      <script>\n",
              "        const buttonEl =\n",
              "          document.querySelector('#df-c6d51022-84d9-4095-b45e-4816d595ae44 button.colab-df-convert');\n",
              "        buttonEl.style.display =\n",
              "          google.colab.kernel.accessAllowed ? 'block' : 'none';\n",
              "\n",
              "        async function convertToInteractive(key) {\n",
              "          const element = document.querySelector('#df-c6d51022-84d9-4095-b45e-4816d595ae44');\n",
              "          const dataTable =\n",
              "            await google.colab.kernel.invokeFunction('convertToInteractive',\n",
              "                                                     [key], {});\n",
              "          if (!dataTable) return;\n",
              "\n",
              "          const docLinkHtml = 'Like what you see? Visit the ' +\n",
              "            '<a target=\"_blank\" href=https://colab.research.google.com/notebooks/data_table.ipynb>data table notebook</a>'\n",
              "            + ' to learn more about interactive tables.';\n",
              "          element.innerHTML = '';\n",
              "          dataTable['output_type'] = 'display_data';\n",
              "          await google.colab.output.renderOutput(dataTable, element);\n",
              "          const docLink = document.createElement('div');\n",
              "          docLink.innerHTML = docLinkHtml;\n",
              "          element.appendChild(docLink);\n",
              "        }\n",
              "      </script>\n",
              "    </div>\n",
              "  </div>\n",
              "  "
            ],
            "text/plain": [
              "               features  VIF Factor\n",
              "0                    id    4.027977\n",
              "1                  hour    5.860958\n",
              "2  hour_bef_temperature   15.775746\n",
              "3    hour_bef_windspeed    6.993526\n",
              "4     hour_bef_humidity    5.835661\n",
              "5   hour_bef_visibility    7.415170\n",
              "6        hour_bef_ozone    8.852221\n",
              "7         hour_bef_pm10    5.679270\n",
              "8        hour_bef_pm2.5    8.222608\n",
              "9                  hbp2    1.155935"
            ]
          },
          "execution_count": 10,
          "metadata": {},
          "output_type": "execute_result"
        }
      ],
      "source": [
        "# 다중공선성 고려 (2)\n",
        "# 가장 vif가 큰 값을 제거하여 다시 vif확인\n",
        "\n",
        "from statsmodels.stats.outliers_influence import variance_inflation_factor\n",
        "\n",
        "# 값을 저장할 데이터프레임 변수\n",
        "vif = pd.DataFrame()\n",
        "\n",
        "# 첫번째 features축은 columns이름으로\n",
        "vif[\"features\"] = X2_features.columns # 독립변수들의 이름들로 구성된 features열 추가\n",
        "\n",
        "# 두번째 축은 VIF값을 계산하여 집어넣기\n",
        "vif[\"VIF Factor\"] = [variance_inflation_factor(X2_features.values, i) for i in range(X2_features.shape[1])] # 리스트내포\n",
        "\n",
        "vif\n",
        "\n",
        "# 보통 vif값이 10을 넘으면, 제거하지만 여기서는 vif값이 10보다 압도적으로 크지 않고\n",
        "# 열의 수가 얼마 되지 않기에 'hour_bef_temperature'을 남겨두기로 하자.\n",
        "# 개인적인 판단임으로, 해당 열을 제거해도 된다."
      ]
    },
    {
      "cell_type": "code",
      "execution_count": null,
      "metadata": {
        "colab": {
          "base_uri": "https://localhost:8080/"
        },
        "id": "PqE9-ujwmi5G",
        "outputId": "2a309f06-04f0-4cc1-f5c8-c2dbe0a10e19"
      },
      "outputs": [
        {
          "name": "stdout",
          "output_type": "stream",
          "text": [
            "(1056, 10) (265, 10) (1056,) (265,)\n"
          ]
        }
      ],
      "source": [
        "# 데이터 분할\n",
        "\n",
        "from sklearn.model_selection import train_test_split\n",
        "\n",
        "train_X, test_X, train_y, test_y = train_test_split(X2_features, y_label, train_size=0.8,\n",
        "                                                    test_size=0.2, random_state=1)\n",
        "print(train_X.shape, test_X.shape, train_y.shape, test_y.shape)"
      ]
    },
    {
      "cell_type": "markdown",
      "metadata": {
        "id": "Ce_zExZHnB9l"
      },
      "source": [
        "제일 위의 '중요사항'에 따라 이번시간에 다루는 모델을 사용할 때, 스케일링이 필요없다."
      ]
    },
    {
      "cell_type": "markdown",
      "metadata": {
        "id": "LzzhW0-FnioQ"
      },
      "source": [
        "## 모델 학습"
      ]
    },
    {
      "cell_type": "markdown",
      "metadata": {
        "id": "TM66Jd8eE2zo"
      },
      "source": [
        "사용할 모델\n",
        "* DecisionTreeRegressor : RegressionTree(회귀나무) <- (1)\n",
        "* Bagging : RandomForestRegressor <- (2)\n",
        "* Boosting\n",
        "  * XGBoost : XGBRegressor <- (3)\n",
        "  * LightGBM : LGBRegressor <- (4)"
      ]
    },
    {
      "cell_type": "markdown",
      "metadata": {
        "id": "EqA4bNMkptQ4"
      },
      "source": [
        "\n",
        "학습방법\n",
        "* 모델을 하이퍼라미터 값을 변경해가면서 10-Fold를 통해 학습데이터 평가. 즉, 학습데이터를 학습과 검증데이터로 쪼개는 과정을 반복하여 학습시키는 방법\n",
        "  * 참고 : https://huidea.tistory.com/30\n",
        "\n",
        "* RegressionTree 하이퍼파라미터 후보 : criterion : “squared_error”, “friedman_mse”, “absolute_error”, “poisson” , max_depth=5,10,15,20,None\n",
        "* Random Forest 하이퍼파라미터 후보 : max_depth=3,5,10 , n_estimators=100,200,300 , random_state=1\n",
        "\n",
        "* XGBoost 하이퍼파라미터 후보 : max_depth=3,5,10 , n_estimators=100,200,300 , learning_rate = 0.001,0.01,0.1,1 , gamma = 0.5,1,2  , random_state=1 \n",
        "\n",
        "* LightGBM 하이퍼파라미터 후보 : max_depth=3,5,10 , n_estimators=100,200,300 , learning_rate = 0.001,0.01,0.1,1 , random_state=1\n",
        "\n",
        "* 하이퍼파라미터 선택을 위한 평가지표 : R2_score\n",
        "  * 참고 : R2_score의 경우, 선형회귀가 아닌 다른 회귀에서도 사용할 수 있는 지표이다. 즉, MSE(r-MSE), MAE와 같이 서로 다른 종류의 모델간에 비교가 가능한 지표이다.\n",
        "\n",
        "\n",
        "\n",
        "> 하이퍼파라미터의 종류가 많음으로, cross_val_score()보다 GridSearchCV()를 사용하자.\n",
        "> * 해당 함수들에 대한 정보를 확인하기 위해 반드시 아래 문서 확인\n",
        ">   * https://techblog-history-younghunjo1.tistory.com/100\n",
        "\n",
        "> 각 모델의 하이퍼파라미터에 대한 정보는 sklearn문서를 참고\n",
        "> * ex. (RegressionTree) https://scikit-learn.org/stable/modules/generated/sklearn.tree.DecisionTreeRegressor.html"
      ]
    },
    {
      "cell_type": "code",
      "execution_count": null,
      "metadata": {
        "id": "W9b2_M43viED"
      },
      "outputs": [],
      "source": [
        "from sklearn.model_selection import GridSearchCV"
      ]
    },
    {
      "cell_type": "markdown",
      "metadata": {
        "id": "WwA8lRrVpvRL"
      },
      "source": [
        "참고사항\n",
        "\n",
        "* 그냥 학습\n",
        "  * 학습에 사용하는 데이터 = train_X, train_y\n",
        "  * 테스트에 사용하는 데이터 = test_X, test_y\n",
        "* k-fold 학습\n",
        "  * 학습에 사용하는 데이터 = train_X, train_y\n",
        "  * 테스트에 사용하는 데이터 = train_X, train_y\n",
        "* k-fold를 사용하는 이유\n",
        "  * 데이터의 수가 너무 적어, test_X, test_y를 만들기 어려운 경우\n",
        "  * 하이퍼파라미터를 찾을 시에, test_X, test_y을 잘 예측하는 모델이 아닌 train_X, train_y을 잘 예측하는 모델로 하여, 과적합을 막기 위함"
      ]
    },
    {
      "cell_type": "markdown",
      "metadata": {
        "id": "zC1RTPzYm7j7"
      },
      "source": [
        "### 1. RegressionTree"
      ]
    },
    {
      "cell_type": "code",
      "execution_count": null,
      "metadata": {
        "colab": {
          "base_uri": "https://localhost:8080/"
        },
        "id": "niks0FHLpu6R",
        "outputId": "6a4e96e1-63b9-433e-d6f4-e2b803195e15"
      },
      "outputs": [
        {
          "data": {
            "text/plain": [
              "GridSearchCV(cv=10, estimator=DecisionTreeRegressor(),\n",
              "             param_grid={'criterion': ['squared_error', 'friedman_mse',\n",
              "                                       'absolute_error', 'poisson'],\n",
              "                         'max_depth': [5, 10, 15, 20, None]},\n",
              "             scoring='r2')"
            ]
          },
          "execution_count": 13,
          "metadata": {},
          "output_type": "execute_result"
        }
      ],
      "source": [
        "from sklearn.tree import DecisionTreeRegressor\n",
        "\n",
        "# 모델 객체 선언\n",
        "reg_tree = DecisionTreeRegressor() # 회귀모델\n",
        "\n",
        "# train 데이터에 대해서 학습진행\n",
        "reg_tree.fit(train_X, train_y)\n",
        "\n",
        "# HyperParameter 후보군; 딕셔너리 형태로 저장\n",
        "parameters={'criterion':['squared_error', 'friedman_mse', 'absolute_error', 'poisson'], # 분류에서 gini & entropy를 사용한 것과 다르다.\n",
        "            'max_depth':[5,10,15,20,None]}\n",
        "\n",
        "# HyperParameter를 Tuning\n",
        "model_rt=GridSearchCV(estimator=reg_tree, param_grid=parameters,\n",
        "                     scoring='r2', cv=10, refit=True)\n",
        "# cv=10; 교차검증을 위한 값으로, kfold(train/validation을 나누는 한 방법)를 사용할 수도 있다.\n",
        "# refit=True -> 가장 성능이 좋은 '최적의 하이퍼파라미터'을 찾아 선택(튜닝)된 모델객체를 생성한다.\n",
        "\n",
        "# refit=True(default); 최적의 하이퍼파라미터(criterion='friedman_mse', max_depth=5)를 넣어서 모델 객체를 생성한다.\n",
        "# 즉, reg_tree=DecisionTreeRegressor(criterion='friedman_mse', max_depth=5)를 자동으로 수행해준다.\n",
        "\n",
        "# 객체는 이전에 'refit=True'에 의해 생성되었기에, 따로 최적의 하이퍼파라미터로 모델객체 선언없이\n",
        "# 바로 train 데이터에 대한 학습을 진행하면 된다.\n",
        "model_rt.fit(train_X,train_y)"
      ]
    },
    {
      "cell_type": "code",
      "execution_count": null,
      "metadata": {
        "colab": {
          "base_uri": "https://localhost:8080/"
        },
        "id": "m-_coGqjsPac",
        "outputId": "2ad2c46b-eee6-4894-f2b7-0e297f26469b"
      },
      "outputs": [
        {
          "data": {
            "text/plain": [
              "{'criterion': 'friedman_mse', 'max_depth': 5}"
            ]
          },
          "execution_count": 14,
          "metadata": {},
          "output_type": "execute_result"
        }
      ],
      "source": [
        "model_rt.best_params_"
      ]
    },
    {
      "cell_type": "markdown",
      "metadata": {
        "id": "istkrmkot6dh"
      },
      "source": [
        "### 2. RandomForestRegressor"
      ]
    },
    {
      "cell_type": "code",
      "execution_count": null,
      "metadata": {
        "colab": {
          "base_uri": "https://localhost:8080/"
        },
        "id": "t7RmZcAyt6di",
        "outputId": "9817709c-9be2-4d92-cf77-bd6cad008e0a"
      },
      "outputs": [
        {
          "data": {
            "text/plain": [
              "GridSearchCV(cv=10, estimator=RandomForestRegressor(),\n",
              "             param_grid={'max_depth': [3, 5, 10],\n",
              "                         'n_estimators': [100, 200, 300], 'random_state': [1]},\n",
              "             scoring='r2')"
            ]
          },
          "execution_count": 15,
          "metadata": {},
          "output_type": "execute_result"
        }
      ],
      "source": [
        "# 시간이 조금 소요된다.\n",
        "\n",
        "from sklearn.ensemble import RandomForestRegressor\n",
        "\n",
        "# 객체 선언\n",
        "randomforest=RandomForestRegressor() # 회귀모델\n",
        "\n",
        "# train 데이터에 대해서 학습진행\n",
        "randomforest.fit(train_X, train_y)\n",
        "\n",
        "# HyperParameter 후보군\n",
        "parameters={'max_depth':[3,5,10],\n",
        "            'n_estimators':[100,200,300],\n",
        "            'random_state':[1]} # RandomForest모델에서 랜덤추출이라는 과정이 이뤄짐으로 'random_state'를 Hyper-Parameter로 받는다.\n",
        "\n",
        "# HyperParameter를 Tuning\n",
        "model_rfr=GridSearchCV(estimator=randomforest, param_grid=parameters,\n",
        "                 scoring='r2', cv=10, refit=True)\n",
        "\n",
        "model_rfr.fit(train_X,train_y)"
      ]
    },
    {
      "cell_type": "code",
      "execution_count": null,
      "metadata": {
        "colab": {
          "base_uri": "https://localhost:8080/"
        },
        "id": "O0xF8R8vt6dj",
        "outputId": "35a1b91b-30ba-4e49-ad2d-94fe4980d1e3"
      },
      "outputs": [
        {
          "data": {
            "text/plain": [
              "{'max_depth': 10, 'n_estimators': 300, 'random_state': 1}"
            ]
          },
          "execution_count": 16,
          "metadata": {},
          "output_type": "execute_result"
        }
      ],
      "source": [
        "model_rfr.best_params_"
      ]
    },
    {
      "cell_type": "markdown",
      "metadata": {
        "id": "xu5vd0RiyVQP"
      },
      "source": [
        "### 3. XGBRegressor"
      ]
    },
    {
      "cell_type": "code",
      "execution_count": null,
      "metadata": {
        "colab": {
          "base_uri": "https://localhost:8080/"
        },
        "id": "zpv2VW7jyUuf",
        "outputId": "dcc5a4e1-f45e-4314-ab6e-15a121b4980b"
      },
      "outputs": [
        {
          "data": {
            "text/plain": [
              "GridSearchCV(cv=10, estimator=XGBRegressor(objective='reg:squarederror'),\n",
              "             param_grid={'gamma': [0.5, 1, 2],\n",
              "                         'learning_rate': [0.001, 0.01, 0.1, 1],\n",
              "                         'max_depth': [3, 5, 10],\n",
              "                         'n_estimators': [100, 200, 300], 'random_state': [1]},\n",
              "             scoring='r2')"
            ]
          },
          "execution_count": 17,
          "metadata": {},
          "output_type": "execute_result"
        }
      ],
      "source": [
        "# 시간이 꽤 많이 소요된다.\n",
        "\n",
        "from xgboost import XGBRegressor # sklearn 라이브러리에서 가져오는게 아니다.\n",
        "\n",
        "# 객체 선언\n",
        "xgboost=XGBRegressor(objective ='reg:squarederror') # 회귀모델\n",
        "# objective ='reg:squarederror'; XGBRegressor라이브러리 버전관련 문제\n",
        "\n",
        "# train 데이터에 대해서 학습진행\n",
        "xgboost.fit(train_X, train_y)\n",
        "\n",
        "# HyperParameter 후보군\n",
        "parameters={'max_depth':[3,5,10],\n",
        "            'n_estimators':[100,200,300],\n",
        "            'learning_rate':[1e-3,0.01,0.1,1],\n",
        "            'gamma':[0.5,1,2],\n",
        "            'random_state':[1]}\n",
        "# learning_rate의 경우에 model의 개개인적인 특징보다는 학습시에 적용되는 값이다.\n",
        "# 따라서 xgboost=XGBRegressor(learning_rate=0.01) <- 오류 발생\n",
        "\n",
        "# HyperParameter를 Tuning\n",
        "model_xgb=GridSearchCV(estimator=xgboost, param_grid=parameters,\n",
        "                     scoring='r2', cv=10, refit=True)\n",
        "\n",
        "model_xgb.fit(train_X,train_y)"
      ]
    },
    {
      "cell_type": "code",
      "execution_count": null,
      "metadata": {
        "colab": {
          "base_uri": "https://localhost:8080/"
        },
        "id": "lGG_kvM6y1sV",
        "outputId": "d3d64bef-fcfb-439b-8c80-f925b3df2493"
      },
      "outputs": [
        {
          "data": {
            "text/plain": [
              "{'gamma': 0.5,\n",
              " 'learning_rate': 0.1,\n",
              " 'max_depth': 5,\n",
              " 'n_estimators': 300,\n",
              " 'random_state': 1}"
            ]
          },
          "execution_count": 18,
          "metadata": {},
          "output_type": "execute_result"
        }
      ],
      "source": [
        "model_xgb.best_params_"
      ]
    },
    {
      "cell_type": "markdown",
      "metadata": {
        "id": "D5k8ZjgRy4Sb"
      },
      "source": [
        "### 4. LGBMRegressor"
      ]
    },
    {
      "cell_type": "code",
      "execution_count": null,
      "metadata": {
        "colab": {
          "base_uri": "https://localhost:8080/"
        },
        "id": "xg6mv5XRy4Sc",
        "outputId": "e4059af5-156a-41d2-9d5b-c2d7d3a50b97"
      },
      "outputs": [
        {
          "data": {
            "text/plain": [
              "GridSearchCV(cv=10, estimator=LGBMRegressor(),\n",
              "             param_grid={'learning_rate': [0.001, 0.01, 0.1, 1],\n",
              "                         'max_depth': [3, 5, 10],\n",
              "                         'n_estimators': [100, 200, 300], 'random_state': [1]},\n",
              "             scoring='r2')"
            ]
          },
          "execution_count": 19,
          "metadata": {},
          "output_type": "execute_result"
        }
      ],
      "source": [
        "# 시간이 조금 소요된다.\n",
        "\n",
        "from lightgbm import LGBMRegressor # sklearn 라이브러리에서 가져오는게 아니다.\n",
        "\n",
        "# 객체 선언\n",
        "lightgbm=LGBMRegressor() # 회귀모델\n",
        "\n",
        "# train 데이터에 대해서 학습진행\n",
        "lightgbm.fit(train_X, train_y)\n",
        "\n",
        "# HyperParameter 후보군\n",
        "parameters={'max_depth':[3,5,10],\n",
        "            'n_estimators':[100,200,300],\n",
        "            'learning_rate':[1e-3,0.01,0.1,1],\n",
        "            'random_state':[1]}\n",
        "\n",
        "# HyperParameter를 Tuning\n",
        "model_lgbm=GridSearchCV(estimator=lightgbm, param_grid=parameters,\n",
        "                     scoring='r2', cv=10, refit=True)\n",
        "\n",
        "# 객체는 이전에 'refit=True'에 의해 생성되었기에, 바로 train 데이터에 대한 학습을 진행하면 된다.\n",
        "model_lgbm.fit(train_X,train_y)"
      ]
    },
    {
      "cell_type": "code",
      "execution_count": null,
      "metadata": {
        "colab": {
          "base_uri": "https://localhost:8080/"
        },
        "id": "zzwWXpmsy4Sc",
        "outputId": "5a303a79-f4c6-4958-f51c-55eef77ebdec"
      },
      "outputs": [
        {
          "data": {
            "text/plain": [
              "{'learning_rate': 0.1, 'max_depth': 10, 'n_estimators': 100, 'random_state': 1}"
            ]
          },
          "execution_count": 20,
          "metadata": {},
          "output_type": "execute_result"
        }
      ],
      "source": [
        "model_lgbm.best_params_"
      ]
    },
    {
      "cell_type": "markdown",
      "metadata": {
        "id": "5UM-4KqmzQcL"
      },
      "source": [
        "## 모델 평가"
      ]
    },
    {
      "cell_type": "markdown",
      "metadata": {
        "id": "WHgenu_8zY3o"
      },
      "source": [
        "학습데이터로 평가했을 때 가장 좋은 성능을 보인 하이퍼 파라미터값의 RegressionTree, RandomForest, XGBoost, LightGBM모델을 테스트 데이터로 평가\n",
        "* 서로 다른 회귀모형을 비교할 때, 사용하는 평가지표 : MSE"
      ]
    },
    {
      "cell_type": "code",
      "execution_count": null,
      "metadata": {
        "id": "JWPGAPsd0A0-"
      },
      "outputs": [],
      "source": [
        "from sklearn.metrics import mean_squared_error"
      ]
    },
    {
      "cell_type": "markdown",
      "metadata": {
        "id": "ZXMBcl94zopB"
      },
      "source": [
        "앞선 GridSearchCV(refit=True)를 하여 최적의 hyper-parameter에 대한 모델객체를 생성하고, model.fit(train_X)로 학습도 시켰기에 그 결과인 (model_rt, model_rfr, model_xgb, model_lgbm)를 따로 '객체선언,학습' 할 필요없이 바로 써주면 된다."
      ]
    },
    {
      "cell_type": "markdown",
      "metadata": {
        "id": "aeo8QtItR431"
      },
      "source": [
        "##### 일단 Train 데이터에 대해서 확인\n"
      ]
    },
    {
      "cell_type": "code",
      "execution_count": null,
      "metadata": {
        "colab": {
          "base_uri": "https://localhost:8080/"
        },
        "id": "-GMto3eixZ29",
        "outputId": "b8fb48ac-6e8b-4822-bd1c-b82574838618"
      },
      "outputs": [
        {
          "name": "stdout",
          "output_type": "stream",
          "text": [
            "RegressionTree model : 1727.857\n",
            "RandomForest model : 324.928\n",
            "XGBoost model : 41.270\n",
            "LightGBM model : 251.911\n"
          ]
        }
      ],
      "source": [
        "# 'Train데이터 전부'에 대해 각 모델별 MSE값 확인\n",
        "\n",
        "print(\"RegressionTree model : {:.3f}\".format(mean_squared_error(train_y, model_rt.predict(train_X))))\n",
        "print(\"RandomForest model : {:.3f}\".format(mean_squared_error(train_y, model_rfr.predict(train_X))))\n",
        "print(\"XGBoost model : {:.3f}\".format(mean_squared_error(train_y, model_xgb.predict(train_X))))\n",
        "print(\"LightGBM model : {:.3f}\".format(mean_squared_error(train_y, model_lgbm.predict(train_X))))"
      ]
    },
    {
      "cell_type": "markdown",
      "metadata": {
        "id": "-Ft-6weC19UF"
      },
      "source": [
        "MSE가 낮을수록 좋은 모델임으로 다음순으로 모델 성능이 좋다.\n",
        "1. XGBoost\n",
        "2. LightGBM\n",
        "3. RandomForest\n",
        "4. RegressionTree"
      ]
    },
    {
      "cell_type": "code",
      "execution_count": null,
      "metadata": {
        "colab": {
          "base_uri": "https://localhost:8080/"
        },
        "id": "dLE8WpgiQpkP",
        "outputId": "28a4538c-ccaa-44f6-da3c-c8a51d28540a"
      },
      "outputs": [
        {
          "name": "stdout",
          "output_type": "stream",
          "text": [
            "R square score for RegressionTree model : 0.653\n",
            "R square score for RandomForest model : 0.769\n",
            "R square score for XGBoost model : 0.782\n",
            "R square score for LightGBM model : 0.768\n"
          ]
        }
      ],
      "source": [
        "# GridSearchCV()를 진행하여 교차검증을 수행할 때, '일부의 Train데이터인 Validation데이터'에 각 모델별 r2 확인\n",
        "# r2의 경우에도 MSE(r-MSE),MAE와 같이 서로 다른 회귀모델끼리 성능비교가 가능한 지표이다.\n",
        "\n",
        "print(\"R square score for RegressionTree model : {:.3f}\".format(model_rt.best_score_))\n",
        "print(\"R square score for RandomForest model : {:.3f}\".format(model_rfr.best_score_))\n",
        "print(\"R square score for XGBoost model : {:.3f}\".format(model_xgb.best_score_))\n",
        "print(\"R square score for LightGBM model : {:.3f}\".format(model_lgbm.best_score_))"
      ]
    },
    {
      "cell_type": "markdown",
      "metadata": {
        "id": "m8BSasac2QyC"
      },
      "source": [
        "R square score가 클수록 좋은 모델임으로 다음순으로 모델 성능이 좋다.\n",
        "1. XGBoost\n",
        "2. RandomForest\n",
        "3. LightGBM\n",
        "4. RegressionTree"
      ]
    },
    {
      "cell_type": "markdown",
      "metadata": {
        "id": "Ou39ZurlgYqd"
      },
      "source": [
        "##### Test 데이터에 대해서 평가"
      ]
    },
    {
      "cell_type": "code",
      "execution_count": null,
      "metadata": {
        "colab": {
          "base_uri": "https://localhost:8080/"
        },
        "id": "2749cfbe",
        "outputId": "9d0f9f61-5c1f-46b5-df41-13359472a87d"
      },
      "outputs": [
        {
          "name": "stdout",
          "output_type": "stream",
          "text": [
            "RegressionTree model : 2291.483\n",
            "RandomForest model : 1730.452\n",
            "XGBoost model : 1630.148\n",
            "LightGBM model : 1791.900\n"
          ]
        }
      ],
      "source": [
        "# 'Test데이터'에 대해 각 모델별 MSE값 확인\n",
        "\n",
        "print(\"RegressionTree model : {:.3f}\".format(mean_squared_error(test_y, model_rt.predict(test_X))))\n",
        "print(\"RandomForest model : {:.3f}\".format(mean_squared_error(test_y, model_rfr.predict(test_X))))\n",
        "print(\"XGBoost model : {:.3f}\".format(mean_squared_error(test_y, model_xgb.predict(test_X))))\n",
        "print(\"LightGBM model : {:.3f}\".format(mean_squared_error(test_y, model_lgbm.predict(test_X))))"
      ]
    },
    {
      "cell_type": "markdown",
      "metadata": {
        "id": "QYZ5igrO28UA"
      },
      "source": [
        "MSE가 낮을수록 좋은 모델임으로 다음순으로 모델 성능이 좋다.\n",
        "1. XGBoost\n",
        "2. RandomForest\n",
        "3. LightGBM\n",
        "4. RegressionTree"
      ]
    },
    {
      "cell_type": "markdown",
      "metadata": {
        "id": "NS2R-LR43FqO"
      },
      "source": [
        "# 문제 1 : Classification 문제\n",
        "\n",
        "해당 코드의 빈 곳(??)을 찾아 완성해주세요.\n",
        "\n",
        "이전 '[0131]_LinearRegression_and_SVM_HW' 예제의 bike.csv에서 y값을 precipitation(범주형)으로 하는 classification문제를 해결해보자.\n"
      ]
    },
    {
      "cell_type": "markdown",
      "metadata": {
        "id": "YToWfARH3FqP"
      },
      "source": [
        "서울시 마포구의 날짜별, 시간별 기상상황과 따릉이 대여 수 데이터\n",
        "즉, 따릉이 보관소별로 매일 자전거 대여\n",
        "\n",
        "* id : 마포구에 있는 따릉이 보관소의 고유 id\n",
        "* hour : 따릉이 보관소에서 기상상황을 측정한 시간\n",
        "* temperature : 기온\n",
        "* precipitation : 비가 오지 않았으면 0, 비가 오면 1, null은 비가 온 것도 아니고 안 온 것도 아니라서 센서가 확실히 측정불가한 상태\n",
        "* windspeed : 풍속(평균)\n",
        "* humidity : 습도\n",
        "* visibility : 시정(視程), 시계(視界)(특정 기상 상태에 따른 가시성을 의미)\n",
        "* ozone : 오존\n",
        "* pm10 : 미세먼지(머리카락 굵기의 1/5에서 1/7 크기의 미세먼지)\n",
        "* pm2.5 : 미세먼지(머리카락 굵기의 1/20에서 1/30 크기의 미세먼지)\n",
        "* count : 측정한 날짜의 따릉이 대여 수\n",
        "\n",
        "> 데이터 출처 : https://www.dacon.io/competitions/open/235576/data"
      ]
    },
    {
      "cell_type": "markdown",
      "metadata": {
        "id": "w_UfEjfm3FqP"
      },
      "source": [
        "## 데이터 전처리"
      ]
    },
    {
      "cell_type": "code",
      "execution_count": 5,
      "metadata": {
        "colab": {
          "base_uri": "https://localhost:8080/",
          "height": 206
        },
        "id": "84YC-V8U3FqQ",
        "outputId": "7e993643-e868-4839-ce84-8224ec53df1a"
      },
      "outputs": [
        {
          "output_type": "execute_result",
          "data": {
            "text/plain": [
              "   id  hour  hour_bef_temperature  hour_bef_precipitation  hour_bef_windspeed  \\\n",
              "0   3    20                  16.3                     1.0                 1.5   \n",
              "1   6    13                  20.1                     0.0                 1.4   \n",
              "2   7     6                  13.9                     0.0                 0.7   \n",
              "3   8    23                   8.1                     0.0                 2.7   \n",
              "4   9    18                  29.5                     0.0                 4.8   \n",
              "\n",
              "   hour_bef_humidity  hour_bef_visibility  hour_bef_ozone  hour_bef_pm10  \\\n",
              "0               89.0                576.0           0.027           76.0   \n",
              "1               48.0                916.0           0.042           73.0   \n",
              "2               79.0               1382.0           0.033           32.0   \n",
              "3               54.0                946.0           0.040           75.0   \n",
              "4                7.0               2000.0           0.057           27.0   \n",
              "\n",
              "   hour_bef_pm2.5  count  \n",
              "0            33.0     49  \n",
              "1            40.0    159  \n",
              "2            19.0     26  \n",
              "3            64.0     57  \n",
              "4            11.0    431  "
            ],
            "text/html": [
              "\n",
              "  <div id=\"df-a632855d-bf4c-4637-94bf-6da5c8339221\">\n",
              "    <div class=\"colab-df-container\">\n",
              "      <div>\n",
              "<style scoped>\n",
              "    .dataframe tbody tr th:only-of-type {\n",
              "        vertical-align: middle;\n",
              "    }\n",
              "\n",
              "    .dataframe tbody tr th {\n",
              "        vertical-align: top;\n",
              "    }\n",
              "\n",
              "    .dataframe thead th {\n",
              "        text-align: right;\n",
              "    }\n",
              "</style>\n",
              "<table border=\"1\" class=\"dataframe\">\n",
              "  <thead>\n",
              "    <tr style=\"text-align: right;\">\n",
              "      <th></th>\n",
              "      <th>id</th>\n",
              "      <th>hour</th>\n",
              "      <th>hour_bef_temperature</th>\n",
              "      <th>hour_bef_precipitation</th>\n",
              "      <th>hour_bef_windspeed</th>\n",
              "      <th>hour_bef_humidity</th>\n",
              "      <th>hour_bef_visibility</th>\n",
              "      <th>hour_bef_ozone</th>\n",
              "      <th>hour_bef_pm10</th>\n",
              "      <th>hour_bef_pm2.5</th>\n",
              "      <th>count</th>\n",
              "    </tr>\n",
              "  </thead>\n",
              "  <tbody>\n",
              "    <tr>\n",
              "      <th>0</th>\n",
              "      <td>3</td>\n",
              "      <td>20</td>\n",
              "      <td>16.3</td>\n",
              "      <td>1.0</td>\n",
              "      <td>1.5</td>\n",
              "      <td>89.0</td>\n",
              "      <td>576.0</td>\n",
              "      <td>0.027</td>\n",
              "      <td>76.0</td>\n",
              "      <td>33.0</td>\n",
              "      <td>49</td>\n",
              "    </tr>\n",
              "    <tr>\n",
              "      <th>1</th>\n",
              "      <td>6</td>\n",
              "      <td>13</td>\n",
              "      <td>20.1</td>\n",
              "      <td>0.0</td>\n",
              "      <td>1.4</td>\n",
              "      <td>48.0</td>\n",
              "      <td>916.0</td>\n",
              "      <td>0.042</td>\n",
              "      <td>73.0</td>\n",
              "      <td>40.0</td>\n",
              "      <td>159</td>\n",
              "    </tr>\n",
              "    <tr>\n",
              "      <th>2</th>\n",
              "      <td>7</td>\n",
              "      <td>6</td>\n",
              "      <td>13.9</td>\n",
              "      <td>0.0</td>\n",
              "      <td>0.7</td>\n",
              "      <td>79.0</td>\n",
              "      <td>1382.0</td>\n",
              "      <td>0.033</td>\n",
              "      <td>32.0</td>\n",
              "      <td>19.0</td>\n",
              "      <td>26</td>\n",
              "    </tr>\n",
              "    <tr>\n",
              "      <th>3</th>\n",
              "      <td>8</td>\n",
              "      <td>23</td>\n",
              "      <td>8.1</td>\n",
              "      <td>0.0</td>\n",
              "      <td>2.7</td>\n",
              "      <td>54.0</td>\n",
              "      <td>946.0</td>\n",
              "      <td>0.040</td>\n",
              "      <td>75.0</td>\n",
              "      <td>64.0</td>\n",
              "      <td>57</td>\n",
              "    </tr>\n",
              "    <tr>\n",
              "      <th>4</th>\n",
              "      <td>9</td>\n",
              "      <td>18</td>\n",
              "      <td>29.5</td>\n",
              "      <td>0.0</td>\n",
              "      <td>4.8</td>\n",
              "      <td>7.0</td>\n",
              "      <td>2000.0</td>\n",
              "      <td>0.057</td>\n",
              "      <td>27.0</td>\n",
              "      <td>11.0</td>\n",
              "      <td>431</td>\n",
              "    </tr>\n",
              "  </tbody>\n",
              "</table>\n",
              "</div>\n",
              "      <button class=\"colab-df-convert\" onclick=\"convertToInteractive('df-a632855d-bf4c-4637-94bf-6da5c8339221')\"\n",
              "              title=\"Convert this dataframe to an interactive table.\"\n",
              "              style=\"display:none;\">\n",
              "        \n",
              "  <svg xmlns=\"http://www.w3.org/2000/svg\" height=\"24px\"viewBox=\"0 0 24 24\"\n",
              "       width=\"24px\">\n",
              "    <path d=\"M0 0h24v24H0V0z\" fill=\"none\"/>\n",
              "    <path d=\"M18.56 5.44l.94 2.06.94-2.06 2.06-.94-2.06-.94-.94-2.06-.94 2.06-2.06.94zm-11 1L8.5 8.5l.94-2.06 2.06-.94-2.06-.94L8.5 2.5l-.94 2.06-2.06.94zm10 10l.94 2.06.94-2.06 2.06-.94-2.06-.94-.94-2.06-.94 2.06-2.06.94z\"/><path d=\"M17.41 7.96l-1.37-1.37c-.4-.4-.92-.59-1.43-.59-.52 0-1.04.2-1.43.59L10.3 9.45l-7.72 7.72c-.78.78-.78 2.05 0 2.83L4 21.41c.39.39.9.59 1.41.59.51 0 1.02-.2 1.41-.59l7.78-7.78 2.81-2.81c.8-.78.8-2.07 0-2.86zM5.41 20L4 18.59l7.72-7.72 1.47 1.35L5.41 20z\"/>\n",
              "  </svg>\n",
              "      </button>\n",
              "      \n",
              "  <style>\n",
              "    .colab-df-container {\n",
              "      display:flex;\n",
              "      flex-wrap:wrap;\n",
              "      gap: 12px;\n",
              "    }\n",
              "\n",
              "    .colab-df-convert {\n",
              "      background-color: #E8F0FE;\n",
              "      border: none;\n",
              "      border-radius: 50%;\n",
              "      cursor: pointer;\n",
              "      display: none;\n",
              "      fill: #1967D2;\n",
              "      height: 32px;\n",
              "      padding: 0 0 0 0;\n",
              "      width: 32px;\n",
              "    }\n",
              "\n",
              "    .colab-df-convert:hover {\n",
              "      background-color: #E2EBFA;\n",
              "      box-shadow: 0px 1px 2px rgba(60, 64, 67, 0.3), 0px 1px 3px 1px rgba(60, 64, 67, 0.15);\n",
              "      fill: #174EA6;\n",
              "    }\n",
              "\n",
              "    [theme=dark] .colab-df-convert {\n",
              "      background-color: #3B4455;\n",
              "      fill: #D2E3FC;\n",
              "    }\n",
              "\n",
              "    [theme=dark] .colab-df-convert:hover {\n",
              "      background-color: #434B5C;\n",
              "      box-shadow: 0px 1px 3px 1px rgba(0, 0, 0, 0.15);\n",
              "      filter: drop-shadow(0px 1px 2px rgba(0, 0, 0, 0.3));\n",
              "      fill: #FFFFFF;\n",
              "    }\n",
              "  </style>\n",
              "\n",
              "      <script>\n",
              "        const buttonEl =\n",
              "          document.querySelector('#df-a632855d-bf4c-4637-94bf-6da5c8339221 button.colab-df-convert');\n",
              "        buttonEl.style.display =\n",
              "          google.colab.kernel.accessAllowed ? 'block' : 'none';\n",
              "\n",
              "        async function convertToInteractive(key) {\n",
              "          const element = document.querySelector('#df-a632855d-bf4c-4637-94bf-6da5c8339221');\n",
              "          const dataTable =\n",
              "            await google.colab.kernel.invokeFunction('convertToInteractive',\n",
              "                                                     [key], {});\n",
              "          if (!dataTable) return;\n",
              "\n",
              "          const docLinkHtml = 'Like what you see? Visit the ' +\n",
              "            '<a target=\"_blank\" href=https://colab.research.google.com/notebooks/data_table.ipynb>data table notebook</a>'\n",
              "            + ' to learn more about interactive tables.';\n",
              "          element.innerHTML = '';\n",
              "          dataTable['output_type'] = 'display_data';\n",
              "          await google.colab.output.renderOutput(dataTable, element);\n",
              "          const docLink = document.createElement('div');\n",
              "          docLink.innerHTML = docLinkHtml;\n",
              "          element.appendChild(docLink);\n",
              "        }\n",
              "      </script>\n",
              "    </div>\n",
              "  </div>\n",
              "  "
            ]
          },
          "metadata": {},
          "execution_count": 5
        }
      ],
      "source": [
        "# 데이터 불러오기\n",
        "\n",
        "path = '/content/drive/MyDrive/DSL/DSL 정규세션/[0131] LinearRegression_and_SVM/data/bike.csv'\n",
        "bike = pd.read_csv(path)\n",
        "bike.head()"
      ]
    },
    {
      "cell_type": "code",
      "source": [
        "bike.isnull().sum()"
      ],
      "metadata": {
        "colab": {
          "base_uri": "https://localhost:8080/"
        },
        "id": "MerDxwXC8eAC",
        "outputId": "a6ff8419-2aee-4ebb-8dfa-a5333932b499"
      },
      "execution_count": 6,
      "outputs": [
        {
          "output_type": "execute_result",
          "data": {
            "text/plain": [
              "id                          0\n",
              "hour                        0\n",
              "hour_bef_temperature        2\n",
              "hour_bef_precipitation      9\n",
              "hour_bef_windspeed          9\n",
              "hour_bef_humidity           2\n",
              "hour_bef_visibility         2\n",
              "hour_bef_ozone             76\n",
              "hour_bef_pm10              90\n",
              "hour_bef_pm2.5            117\n",
              "count                       0\n",
              "dtype: int64"
            ]
          },
          "metadata": {},
          "execution_count": 6
        }
      ]
    },
    {
      "cell_type": "code",
      "execution_count": 7,
      "metadata": {
        "colab": {
          "base_uri": "https://localhost:8080/"
        },
        "id": "ZMpcmAZi3FqQ",
        "outputId": "b5b3745c-41c2-41fd-e052-be3d48f8ce7c"
      },
      "outputs": [
        {
          "output_type": "execute_result",
          "data": {
            "text/plain": [
              "id                        0\n",
              "hour                      0\n",
              "hour_bef_temperature      0\n",
              "hour_bef_precipitation    0\n",
              "hour_bef_windspeed        0\n",
              "hour_bef_humidity         0\n",
              "hour_bef_visibility       0\n",
              "hour_bef_ozone            0\n",
              "hour_bef_pm10             0\n",
              "hour_bef_pm2.5            0\n",
              "count                     0\n",
              "dtype: int64"
            ]
          },
          "metadata": {},
          "execution_count": 7
        }
      ],
      "source": [
        "# 결측치 처리 -> null이 포함된 행(데이터)은 삭제\n",
        "na_list = ['hour_bef_temperature', 'hour_bef_precipitation', 'hour_bef_windspeed', 'hour_bef_humidity', 'hour_bef_visibility', 'hour_bef_ozone', 'hour_bef_pm10', 'hour_bef_pm2.5']\n",
        "\n",
        "for name in na_list:\n",
        "  bike.dropna(subset = [name], inplace = True)\n",
        "\n",
        "bike.isnull().sum()"
      ]
    },
    {
      "cell_type": "code",
      "execution_count": 8,
      "metadata": {
        "id": "46TSLUjs3FqQ"
      },
      "outputs": [],
      "source": [
        "# 범주형 X 데이터 one-hot encoding\n",
        "# 유일하게 범주형 데이터였던, 'hour_bef_precipitation'열이 y값이 되었음으로\n",
        "# 남은 X 열들(features)은 모두 연속형 데이터임으로, 따로 'one-hot encoding'을 해줄 필요가 없다."
      ]
    },
    {
      "cell_type": "code",
      "execution_count": 9,
      "metadata": {
        "id": "5FIW7aXY3FqQ"
      },
      "outputs": [],
      "source": [
        "# 'y_label', 'X_features' 만들기\n",
        "\n",
        "y_label = bike.loc[:, 'hour_bef_precipitation']\n",
        "X_features = bike.drop(['hour_bef_precipitation'], axis=1)"
      ]
    },
    {
      "cell_type": "code",
      "execution_count": 10,
      "metadata": {
        "colab": {
          "base_uri": "https://localhost:8080/",
          "height": 363
        },
        "id": "vq6NlG2k3FqR",
        "outputId": "a523a428-5569-4c01-8c14-4f2d6612cdb1"
      },
      "outputs": [
        {
          "output_type": "execute_result",
          "data": {
            "text/plain": [
              "               features  VIF Factor\n",
              "0                    id    4.022339\n",
              "1                  hour    7.236586\n",
              "2  hour_bef_temperature   18.456758\n",
              "3    hour_bef_windspeed    6.963252\n",
              "4     hour_bef_humidity    5.711342\n",
              "5   hour_bef_visibility    7.199585\n",
              "6        hour_bef_ozone    8.904015\n",
              "7         hour_bef_pm10    5.860971\n",
              "8        hour_bef_pm2.5    8.178193\n",
              "9                 count    6.616391"
            ],
            "text/html": [
              "\n",
              "  <div id=\"df-87739619-8f72-45ec-806f-6863da408a89\">\n",
              "    <div class=\"colab-df-container\">\n",
              "      <div>\n",
              "<style scoped>\n",
              "    .dataframe tbody tr th:only-of-type {\n",
              "        vertical-align: middle;\n",
              "    }\n",
              "\n",
              "    .dataframe tbody tr th {\n",
              "        vertical-align: top;\n",
              "    }\n",
              "\n",
              "    .dataframe thead th {\n",
              "        text-align: right;\n",
              "    }\n",
              "</style>\n",
              "<table border=\"1\" class=\"dataframe\">\n",
              "  <thead>\n",
              "    <tr style=\"text-align: right;\">\n",
              "      <th></th>\n",
              "      <th>features</th>\n",
              "      <th>VIF Factor</th>\n",
              "    </tr>\n",
              "  </thead>\n",
              "  <tbody>\n",
              "    <tr>\n",
              "      <th>0</th>\n",
              "      <td>id</td>\n",
              "      <td>4.022339</td>\n",
              "    </tr>\n",
              "    <tr>\n",
              "      <th>1</th>\n",
              "      <td>hour</td>\n",
              "      <td>7.236586</td>\n",
              "    </tr>\n",
              "    <tr>\n",
              "      <th>2</th>\n",
              "      <td>hour_bef_temperature</td>\n",
              "      <td>18.456758</td>\n",
              "    </tr>\n",
              "    <tr>\n",
              "      <th>3</th>\n",
              "      <td>hour_bef_windspeed</td>\n",
              "      <td>6.963252</td>\n",
              "    </tr>\n",
              "    <tr>\n",
              "      <th>4</th>\n",
              "      <td>hour_bef_humidity</td>\n",
              "      <td>5.711342</td>\n",
              "    </tr>\n",
              "    <tr>\n",
              "      <th>5</th>\n",
              "      <td>hour_bef_visibility</td>\n",
              "      <td>7.199585</td>\n",
              "    </tr>\n",
              "    <tr>\n",
              "      <th>6</th>\n",
              "      <td>hour_bef_ozone</td>\n",
              "      <td>8.904015</td>\n",
              "    </tr>\n",
              "    <tr>\n",
              "      <th>7</th>\n",
              "      <td>hour_bef_pm10</td>\n",
              "      <td>5.860971</td>\n",
              "    </tr>\n",
              "    <tr>\n",
              "      <th>8</th>\n",
              "      <td>hour_bef_pm2.5</td>\n",
              "      <td>8.178193</td>\n",
              "    </tr>\n",
              "    <tr>\n",
              "      <th>9</th>\n",
              "      <td>count</td>\n",
              "      <td>6.616391</td>\n",
              "    </tr>\n",
              "  </tbody>\n",
              "</table>\n",
              "</div>\n",
              "      <button class=\"colab-df-convert\" onclick=\"convertToInteractive('df-87739619-8f72-45ec-806f-6863da408a89')\"\n",
              "              title=\"Convert this dataframe to an interactive table.\"\n",
              "              style=\"display:none;\">\n",
              "        \n",
              "  <svg xmlns=\"http://www.w3.org/2000/svg\" height=\"24px\"viewBox=\"0 0 24 24\"\n",
              "       width=\"24px\">\n",
              "    <path d=\"M0 0h24v24H0V0z\" fill=\"none\"/>\n",
              "    <path d=\"M18.56 5.44l.94 2.06.94-2.06 2.06-.94-2.06-.94-.94-2.06-.94 2.06-2.06.94zm-11 1L8.5 8.5l.94-2.06 2.06-.94-2.06-.94L8.5 2.5l-.94 2.06-2.06.94zm10 10l.94 2.06.94-2.06 2.06-.94-2.06-.94-.94-2.06-.94 2.06-2.06.94z\"/><path d=\"M17.41 7.96l-1.37-1.37c-.4-.4-.92-.59-1.43-.59-.52 0-1.04.2-1.43.59L10.3 9.45l-7.72 7.72c-.78.78-.78 2.05 0 2.83L4 21.41c.39.39.9.59 1.41.59.51 0 1.02-.2 1.41-.59l7.78-7.78 2.81-2.81c.8-.78.8-2.07 0-2.86zM5.41 20L4 18.59l7.72-7.72 1.47 1.35L5.41 20z\"/>\n",
              "  </svg>\n",
              "      </button>\n",
              "      \n",
              "  <style>\n",
              "    .colab-df-container {\n",
              "      display:flex;\n",
              "      flex-wrap:wrap;\n",
              "      gap: 12px;\n",
              "    }\n",
              "\n",
              "    .colab-df-convert {\n",
              "      background-color: #E8F0FE;\n",
              "      border: none;\n",
              "      border-radius: 50%;\n",
              "      cursor: pointer;\n",
              "      display: none;\n",
              "      fill: #1967D2;\n",
              "      height: 32px;\n",
              "      padding: 0 0 0 0;\n",
              "      width: 32px;\n",
              "    }\n",
              "\n",
              "    .colab-df-convert:hover {\n",
              "      background-color: #E2EBFA;\n",
              "      box-shadow: 0px 1px 2px rgba(60, 64, 67, 0.3), 0px 1px 3px 1px rgba(60, 64, 67, 0.15);\n",
              "      fill: #174EA6;\n",
              "    }\n",
              "\n",
              "    [theme=dark] .colab-df-convert {\n",
              "      background-color: #3B4455;\n",
              "      fill: #D2E3FC;\n",
              "    }\n",
              "\n",
              "    [theme=dark] .colab-df-convert:hover {\n",
              "      background-color: #434B5C;\n",
              "      box-shadow: 0px 1px 3px 1px rgba(0, 0, 0, 0.15);\n",
              "      filter: drop-shadow(0px 1px 2px rgba(0, 0, 0, 0.3));\n",
              "      fill: #FFFFFF;\n",
              "    }\n",
              "  </style>\n",
              "\n",
              "      <script>\n",
              "        const buttonEl =\n",
              "          document.querySelector('#df-87739619-8f72-45ec-806f-6863da408a89 button.colab-df-convert');\n",
              "        buttonEl.style.display =\n",
              "          google.colab.kernel.accessAllowed ? 'block' : 'none';\n",
              "\n",
              "        async function convertToInteractive(key) {\n",
              "          const element = document.querySelector('#df-87739619-8f72-45ec-806f-6863da408a89');\n",
              "          const dataTable =\n",
              "            await google.colab.kernel.invokeFunction('convertToInteractive',\n",
              "                                                     [key], {});\n",
              "          if (!dataTable) return;\n",
              "\n",
              "          const docLinkHtml = 'Like what you see? Visit the ' +\n",
              "            '<a target=\"_blank\" href=https://colab.research.google.com/notebooks/data_table.ipynb>data table notebook</a>'\n",
              "            + ' to learn more about interactive tables.';\n",
              "          element.innerHTML = '';\n",
              "          dataTable['output_type'] = 'display_data';\n",
              "          await google.colab.output.renderOutput(dataTable, element);\n",
              "          const docLink = document.createElement('div');\n",
              "          docLink.innerHTML = docLinkHtml;\n",
              "          element.appendChild(docLink);\n",
              "        }\n",
              "      </script>\n",
              "    </div>\n",
              "  </div>\n",
              "  "
            ]
          },
          "metadata": {},
          "execution_count": 10
        }
      ],
      "source": [
        "# 다중공선성 고려 (1)\n",
        "\n",
        "from statsmodels.stats.outliers_influence import variance_inflation_factor\n",
        "\n",
        "# 값을 저장할 데이터프레임 변수\n",
        "vif = pd.DataFrame()\n",
        "\n",
        "# 첫번째 features축은 columns이름으로\n",
        "vif[\"features\"] = X_features.columns # 독립변수들의 이름들로 구성된 features열 추가\n",
        "\n",
        "# 두번째 축은 VIF값을 계산하여 집어넣기\n",
        "vif[\"VIF Factor\"] = [variance_inflation_factor(X_features.values, i) for i in range(X_features.shape[1])] # 리스트내포\n",
        "\n",
        "vif"
      ]
    },
    {
      "cell_type": "code",
      "execution_count": 11,
      "metadata": {
        "id": "2VHnAbIh3FqR"
      },
      "outputs": [],
      "source": [
        "# vif가 가장 큰 ??열 제거\n",
        "\n",
        "X2_features = X_features.drop('hour_bef_temperature', axis=1)"
      ]
    },
    {
      "cell_type": "code",
      "execution_count": 12,
      "metadata": {
        "colab": {
          "base_uri": "https://localhost:8080/",
          "height": 331
        },
        "id": "qOGGuVor3FqR",
        "outputId": "d37aa21a-4a50-4573-93f6-8b3fd547887a"
      },
      "outputs": [
        {
          "output_type": "execute_result",
          "data": {
            "text/plain": [
              "              features  VIF Factor\n",
              "0                   id    4.013247\n",
              "1                 hour    7.236170\n",
              "2   hour_bef_windspeed    6.957653\n",
              "3    hour_bef_humidity    5.466206\n",
              "4  hour_bef_visibility    5.987482\n",
              "5       hour_bef_ozone    7.858466\n",
              "6        hour_bef_pm10    5.771248\n",
              "7       hour_bef_pm2.5    7.917995\n",
              "8                count    5.654700"
            ],
            "text/html": [
              "\n",
              "  <div id=\"df-696d3b01-e0ab-481b-bb12-2eafd6f0a759\">\n",
              "    <div class=\"colab-df-container\">\n",
              "      <div>\n",
              "<style scoped>\n",
              "    .dataframe tbody tr th:only-of-type {\n",
              "        vertical-align: middle;\n",
              "    }\n",
              "\n",
              "    .dataframe tbody tr th {\n",
              "        vertical-align: top;\n",
              "    }\n",
              "\n",
              "    .dataframe thead th {\n",
              "        text-align: right;\n",
              "    }\n",
              "</style>\n",
              "<table border=\"1\" class=\"dataframe\">\n",
              "  <thead>\n",
              "    <tr style=\"text-align: right;\">\n",
              "      <th></th>\n",
              "      <th>features</th>\n",
              "      <th>VIF Factor</th>\n",
              "    </tr>\n",
              "  </thead>\n",
              "  <tbody>\n",
              "    <tr>\n",
              "      <th>0</th>\n",
              "      <td>id</td>\n",
              "      <td>4.013247</td>\n",
              "    </tr>\n",
              "    <tr>\n",
              "      <th>1</th>\n",
              "      <td>hour</td>\n",
              "      <td>7.236170</td>\n",
              "    </tr>\n",
              "    <tr>\n",
              "      <th>2</th>\n",
              "      <td>hour_bef_windspeed</td>\n",
              "      <td>6.957653</td>\n",
              "    </tr>\n",
              "    <tr>\n",
              "      <th>3</th>\n",
              "      <td>hour_bef_humidity</td>\n",
              "      <td>5.466206</td>\n",
              "    </tr>\n",
              "    <tr>\n",
              "      <th>4</th>\n",
              "      <td>hour_bef_visibility</td>\n",
              "      <td>5.987482</td>\n",
              "    </tr>\n",
              "    <tr>\n",
              "      <th>5</th>\n",
              "      <td>hour_bef_ozone</td>\n",
              "      <td>7.858466</td>\n",
              "    </tr>\n",
              "    <tr>\n",
              "      <th>6</th>\n",
              "      <td>hour_bef_pm10</td>\n",
              "      <td>5.771248</td>\n",
              "    </tr>\n",
              "    <tr>\n",
              "      <th>7</th>\n",
              "      <td>hour_bef_pm2.5</td>\n",
              "      <td>7.917995</td>\n",
              "    </tr>\n",
              "    <tr>\n",
              "      <th>8</th>\n",
              "      <td>count</td>\n",
              "      <td>5.654700</td>\n",
              "    </tr>\n",
              "  </tbody>\n",
              "</table>\n",
              "</div>\n",
              "      <button class=\"colab-df-convert\" onclick=\"convertToInteractive('df-696d3b01-e0ab-481b-bb12-2eafd6f0a759')\"\n",
              "              title=\"Convert this dataframe to an interactive table.\"\n",
              "              style=\"display:none;\">\n",
              "        \n",
              "  <svg xmlns=\"http://www.w3.org/2000/svg\" height=\"24px\"viewBox=\"0 0 24 24\"\n",
              "       width=\"24px\">\n",
              "    <path d=\"M0 0h24v24H0V0z\" fill=\"none\"/>\n",
              "    <path d=\"M18.56 5.44l.94 2.06.94-2.06 2.06-.94-2.06-.94-.94-2.06-.94 2.06-2.06.94zm-11 1L8.5 8.5l.94-2.06 2.06-.94-2.06-.94L8.5 2.5l-.94 2.06-2.06.94zm10 10l.94 2.06.94-2.06 2.06-.94-2.06-.94-.94-2.06-.94 2.06-2.06.94z\"/><path d=\"M17.41 7.96l-1.37-1.37c-.4-.4-.92-.59-1.43-.59-.52 0-1.04.2-1.43.59L10.3 9.45l-7.72 7.72c-.78.78-.78 2.05 0 2.83L4 21.41c.39.39.9.59 1.41.59.51 0 1.02-.2 1.41-.59l7.78-7.78 2.81-2.81c.8-.78.8-2.07 0-2.86zM5.41 20L4 18.59l7.72-7.72 1.47 1.35L5.41 20z\"/>\n",
              "  </svg>\n",
              "      </button>\n",
              "      \n",
              "  <style>\n",
              "    .colab-df-container {\n",
              "      display:flex;\n",
              "      flex-wrap:wrap;\n",
              "      gap: 12px;\n",
              "    }\n",
              "\n",
              "    .colab-df-convert {\n",
              "      background-color: #E8F0FE;\n",
              "      border: none;\n",
              "      border-radius: 50%;\n",
              "      cursor: pointer;\n",
              "      display: none;\n",
              "      fill: #1967D2;\n",
              "      height: 32px;\n",
              "      padding: 0 0 0 0;\n",
              "      width: 32px;\n",
              "    }\n",
              "\n",
              "    .colab-df-convert:hover {\n",
              "      background-color: #E2EBFA;\n",
              "      box-shadow: 0px 1px 2px rgba(60, 64, 67, 0.3), 0px 1px 3px 1px rgba(60, 64, 67, 0.15);\n",
              "      fill: #174EA6;\n",
              "    }\n",
              "\n",
              "    [theme=dark] .colab-df-convert {\n",
              "      background-color: #3B4455;\n",
              "      fill: #D2E3FC;\n",
              "    }\n",
              "\n",
              "    [theme=dark] .colab-df-convert:hover {\n",
              "      background-color: #434B5C;\n",
              "      box-shadow: 0px 1px 3px 1px rgba(0, 0, 0, 0.15);\n",
              "      filter: drop-shadow(0px 1px 2px rgba(0, 0, 0, 0.3));\n",
              "      fill: #FFFFFF;\n",
              "    }\n",
              "  </style>\n",
              "\n",
              "      <script>\n",
              "        const buttonEl =\n",
              "          document.querySelector('#df-696d3b01-e0ab-481b-bb12-2eafd6f0a759 button.colab-df-convert');\n",
              "        buttonEl.style.display =\n",
              "          google.colab.kernel.accessAllowed ? 'block' : 'none';\n",
              "\n",
              "        async function convertToInteractive(key) {\n",
              "          const element = document.querySelector('#df-696d3b01-e0ab-481b-bb12-2eafd6f0a759');\n",
              "          const dataTable =\n",
              "            await google.colab.kernel.invokeFunction('convertToInteractive',\n",
              "                                                     [key], {});\n",
              "          if (!dataTable) return;\n",
              "\n",
              "          const docLinkHtml = 'Like what you see? Visit the ' +\n",
              "            '<a target=\"_blank\" href=https://colab.research.google.com/notebooks/data_table.ipynb>data table notebook</a>'\n",
              "            + ' to learn more about interactive tables.';\n",
              "          element.innerHTML = '';\n",
              "          dataTable['output_type'] = 'display_data';\n",
              "          await google.colab.output.renderOutput(dataTable, element);\n",
              "          const docLink = document.createElement('div');\n",
              "          docLink.innerHTML = docLinkHtml;\n",
              "          element.appendChild(docLink);\n",
              "        }\n",
              "      </script>\n",
              "    </div>\n",
              "  </div>\n",
              "  "
            ]
          },
          "metadata": {},
          "execution_count": 12
        }
      ],
      "source": [
        "# 다중공선성 고려 (2)\n",
        "# 가장 vif가 큰 값을 제거하여 다시 vif확인\n",
        "\n",
        "from statsmodels.stats.outliers_influence import variance_inflation_factor\n",
        "\n",
        "# 값을 저장할 데이터프레임 변수\n",
        "vif = pd.DataFrame()\n",
        "\n",
        "# 첫번째 features축은 columns이름으로\n",
        "vif[\"features\"] = X2_features.columns # 독립변수들의 이름들로 구성된 features열 추가\n",
        "\n",
        "# 두번째 축은 VIF값을 계산하여 집어넣기\n",
        "vif[\"VIF Factor\"] = [variance_inflation_factor(X2_features.values, i) for i in range(X2_features.shape[1])] # 리스트내포\n",
        "\n",
        "vif\n",
        "\n",
        "# vif값이 10을 넘지 않음으로, 다중공선성을 걱정하여 열을 제거할 필요가 없다."
      ]
    },
    {
      "cell_type": "code",
      "execution_count": 13,
      "metadata": {
        "colab": {
          "base_uri": "https://localhost:8080/"
        },
        "id": "AvAyVxII3FqR",
        "outputId": "8a9560a3-370a-482c-dd34-5aca75b6fdf2"
      },
      "outputs": [
        {
          "output_type": "stream",
          "name": "stdout",
          "text": [
            "(1056, 9) (265, 9) (1056,) (265,)\n"
          ]
        }
      ],
      "source": [
        "# X, y 를 8: 2로 데이터 분할\n",
        "# stratify를 통해 y값 클래스 비율 일정하게 분할; 분류일 경우, 데이터분할시에 주의가 필요하다.\n",
        "# random_state = 1로 지정\n",
        "\n",
        "from sklearn.model_selection import train_test_split\n",
        "\n",
        "train_X, test_X, train_y, test_y = train_test_split(X2_features, y_label, train_size=0.8,\n",
        "                                                    test_size=0.2, random_state=1, stratify=y_label)\n",
        "print(train_X.shape, test_X.shape, train_y.shape, test_y.shape)"
      ]
    },
    {
      "cell_type": "code",
      "source": [
        "print(len(train_y[train_y == 0]) / len(train_y))\n",
        "print(len(train_y[train_y == 1]) / len(train_y))"
      ],
      "metadata": {
        "id": "l7nUs6afAFId",
        "outputId": "4a5a98a0-ce48-4adf-bef7-c22056f7488c",
        "colab": {
          "base_uri": "https://localhost:8080/"
        }
      },
      "execution_count": 14,
      "outputs": [
        {
          "output_type": "stream",
          "name": "stdout",
          "text": [
            "0.9696969696969697\n",
            "0.030303030303030304\n"
          ]
        }
      ]
    },
    {
      "cell_type": "markdown",
      "metadata": {
        "id": "vYJKw_nd3FqR"
      },
      "source": [
        "제일 위의 '중요사항'에 따라 이번시간에 다루는 모델을 사용할 때, 스케일링이 필요없다."
      ]
    },
    {
      "cell_type": "markdown",
      "metadata": {
        "id": "MuczbqWP3FqR"
      },
      "source": [
        "## 모델 학습"
      ]
    },
    {
      "cell_type": "markdown",
      "metadata": {
        "id": "UOxX74yS3FqR"
      },
      "source": [
        "사용할 모델\n",
        "* DecisionTreeClassifier : DecisionTree(의사결정나무) <- (1)\n",
        "* Bagging : RandomForestClassifier <- (2)\n",
        "* Boosting\n",
        "  * XGBoost : XGBClassifier <- (3)\n",
        "  * LightGBM : LGBClassifier <- (4)"
      ]
    },
    {
      "cell_type": "markdown",
      "metadata": {
        "id": "lXHc8XSu3FqR"
      },
      "source": [
        "\n",
        "학습방법\n",
        "* 모델을 하이퍼라미터 값을 변경해가면서 10-Fold를 통해 학습데이터 평가. 즉, 학습데이터를 학습과 검증데이터로 쪼개는 과정을 반복하여 학습시키는 방법\n",
        "  * 참고 : https://huidea.tistory.com/30\n",
        "\n",
        "* DecisionTree 하이퍼파라미터 후보 : criterion : 'gini', 'entropy' , max_depth=5,10,15,20,None\n",
        "* Random Forest 하이퍼파라미터 후보 : max_depth=3,5,10 , n_estimators=100,200,300 , random_state=1\n",
        "\n",
        "* XGBoost 하이퍼파라미터 후보 : max_depth=3,5,10 , n_estimators=100,200,300 , learning_rate = 0.001,0.01,0.1,1 , gamma = 0.5,1,2  , random_state=1 \n",
        "\n",
        "* LightGBM 하이퍼파라미터 후보 : max_depth=3,5,10 , n_estimators=100,200,300 , learning_rate = 0.001,0.01,0.1,1 , random_state=1\n",
        "\n",
        "* 하이퍼파라미터 선택을 위한 평가지표 : F1-Score\n",
        "\n",
        "\n",
        "\n",
        "> 하이퍼파라미터의 종류가 많음으로, cross_val_score()보다 GridSearchCV()를 사용하자.\n",
        "> * 해당 함수들에 대한 정보를 확인하기 위해 반드시 아래 문서 확인\n",
        ">   * https://techblog-history-younghunjo1.tistory.com/100\n",
        "\n",
        "> 각 모델의 하이퍼파라미터에 대한 정보는 sklearn문서를 참고\n",
        "> * ex. (DecisionTree) https://scikit-learn.org/stable/modules/generated/sklearn.tree.DecisionTreeClassifier.html#sklearn.tree.DecisionTreeClassifier"
      ]
    },
    {
      "cell_type": "code",
      "execution_count": null,
      "metadata": {
        "id": "K4GxKF0S3FqS"
      },
      "outputs": [],
      "source": [
        "from sklearn.model_selection import GridSearchCV"
      ]
    },
    {
      "cell_type": "markdown",
      "metadata": {
        "id": "YFCYtI0V3FqS"
      },
      "source": [
        "참고사항\n",
        "\n",
        "* 그냥 학습\n",
        "  * 학습에 사용하는 데이터 = train_X, train_y\n",
        "  * 테스트에 사용하는 데이터 = test_X, test_y\n",
        "* k-fold 학습\n",
        "  * 학습에 사용하는 데이터 = train_X, train_y\n",
        "  * 테스트에 사용하는 데이터 = train_X, train_y\n",
        "* k-fold를 사용하는 이유\n",
        "  * 데이터의 수가 너무 적어, test_X, test_y를 만들기 어려운 경우\n",
        "  * 하이퍼파라미터를 찾을 시에, test_X, test_y을 잘 예측하는 모델이 아닌 train_X, train_y을 잘 예측하는 모델로 하여, 과적합을 막기 위함"
      ]
    },
    {
      "cell_type": "markdown",
      "metadata": {
        "id": "1geA0UQU3FqS"
      },
      "source": [
        "### 1. DecisionTree"
      ]
    },
    {
      "cell_type": "code",
      "execution_count": 16,
      "metadata": {
        "colab": {
          "base_uri": "https://localhost:8080/"
        },
        "id": "CoWsWbhF3FqS",
        "outputId": "b00417f5-5a90-4303-c8dd-2f81b0a3526c"
      },
      "outputs": [
        {
          "output_type": "execute_result",
          "data": {
            "text/plain": [
              "GridSearchCV(cv=10, estimator=DecisionTreeClassifier(),\n",
              "             param_grid={'criterion': ['gini', 'entropy'],\n",
              "                         'max_depth': [5, 10, 15, 20, None]},\n",
              "             scoring='f1')"
            ]
          },
          "metadata": {},
          "execution_count": 16
        }
      ],
      "source": [
        "from sklearn.tree import DecisionTreeClassifier\n",
        "\n",
        "# 모델 객체 선언\n",
        "clf_tree = DecisionTreeClassifier() # 분류모델\n",
        "\n",
        "# train 데이터에 대해서 학습진행\n",
        "clf_tree.fit(train_X, train_y)\n",
        "\n",
        "# HyperParameter 후보군; 딕셔너리 형태로 저장\n",
        "parameters={'criterion':['gini', 'entropy'],\n",
        "            'max_depth':[5,10,15,20,None]}\n",
        "\n",
        "# HyperParameter를 Tuning\n",
        "model_dt=GridSearchCV(estimator=clf_tree, param_grid=parameters,\n",
        "                     scoring='f1', cv=10, refit=True)\n",
        "\n",
        "model_dt.fit(train_X,train_y)"
      ]
    },
    {
      "cell_type": "code",
      "execution_count": 17,
      "metadata": {
        "colab": {
          "base_uri": "https://localhost:8080/"
        },
        "id": "NEnZytgY3FqS",
        "outputId": "738f6669-350b-4ad6-cf84-9183223a5ba5"
      },
      "outputs": [
        {
          "output_type": "execute_result",
          "data": {
            "text/plain": [
              "{'criterion': 'gini', 'max_depth': 5}"
            ]
          },
          "metadata": {},
          "execution_count": 17
        }
      ],
      "source": [
        "model_dt.best_params_"
      ]
    },
    {
      "cell_type": "markdown",
      "metadata": {
        "id": "N6zlki-G3FqS"
      },
      "source": [
        "### 2. RandomForestClassifier"
      ]
    },
    {
      "cell_type": "code",
      "execution_count": 18,
      "metadata": {
        "colab": {
          "base_uri": "https://localhost:8080/"
        },
        "id": "UsOwAmSG3FqS",
        "outputId": "112cf5f3-c09a-40f3-a538-0e77680c742c"
      },
      "outputs": [
        {
          "output_type": "execute_result",
          "data": {
            "text/plain": [
              "GridSearchCV(cv=10, estimator=RandomForestClassifier(),\n",
              "             param_grid={'max_depth': [3, 5, 10],\n",
              "                         'n_estimators': [100, 200, 300], 'random_state': [1]},\n",
              "             scoring='f1')"
            ]
          },
          "metadata": {},
          "execution_count": 18
        }
      ],
      "source": [
        "from sklearn.ensemble import RandomForestClassifier\n",
        "\n",
        "# 객체 선언\n",
        "randomforest=RandomForestClassifier() # 분류모델\n",
        "\n",
        "# train 데이터에 대해서 학습진행\n",
        "randomforest.fit(train_X, train_y)\n",
        "\n",
        "# HyperParameter 후보군\n",
        "parameters = {'max_depth':[3,5,10], 'n_estimators':[100,200,300], 'random_state':[1]}\n",
        "\n",
        "# HyperParameter를 Tuning\n",
        "model_rfc=GridSearchCV(estimator = randomforest, param_grid = parameters, scoring = 'f1', cv=10, refit =True)\n",
        "\n",
        "model_rfc.fit(train_X,train_y)"
      ]
    },
    {
      "cell_type": "code",
      "execution_count": 19,
      "metadata": {
        "colab": {
          "base_uri": "https://localhost:8080/"
        },
        "id": "wiEUHE0X3FqS",
        "outputId": "acd8f916-b68e-48ec-af18-395a5269a6d0"
      },
      "outputs": [
        {
          "output_type": "execute_result",
          "data": {
            "text/plain": [
              "{'max_depth': 5, 'n_estimators': 200, 'random_state': 1}"
            ]
          },
          "metadata": {},
          "execution_count": 19
        }
      ],
      "source": [
        "model_rfc.best_params_"
      ]
    },
    {
      "cell_type": "markdown",
      "metadata": {
        "id": "piaOnShF3FqS"
      },
      "source": [
        "### 3. XGBClassifier"
      ]
    },
    {
      "cell_type": "code",
      "execution_count": 20,
      "metadata": {
        "colab": {
          "base_uri": "https://localhost:8080/"
        },
        "id": "xSac03MB3FqS",
        "outputId": "730a1449-40a3-4773-994f-148d313d6bcf"
      },
      "outputs": [
        {
          "output_type": "execute_result",
          "data": {
            "text/plain": [
              "GridSearchCV(cv=10, estimator=XGBClassifier(),\n",
              "             param_grid={'gamma': [0.5, 1, 2],\n",
              "                         'learning_rate': [0.001, 0.01, 0.1, 1],\n",
              "                         'max_depth': [3, 5, 10],\n",
              "                         'n_estimators': [100, 200, 300], 'random_state': [1]},\n",
              "             scoring='r2')"
            ]
          },
          "metadata": {},
          "execution_count": 20
        }
      ],
      "source": [
        "from xgboost import XGBClassifier # sklearn 라이브러리에서 가져오는게 아니다.\n",
        "\n",
        "# 객체 선언\n",
        "xgboost=XGBClassifier() # 분류모델\n",
        "\n",
        "# train 데이터에 대해서 학습진행\n",
        "xgboost.fit(train_X, train_y)\n",
        "\n",
        "# HyperParameter 후보군\n",
        "parameters={'max_depth':[3,5,10],\n",
        "            'n_estimators':[100,200,300],\n",
        "            'learning_rate':[1e-3,0.01,0.1,1],\n",
        "            'gamma':[0.5,1,2],\n",
        "            'random_state':[1]}\n",
        "# learning_rate의 경우에 model의 개개인적인 특징보다는 학습시에 적용되는 값이다.\n",
        "# 따라서 xgboost=XGBRegressor(learning_rate=0.01) <- 오류 발생\n",
        "\n",
        "# HyperParameter를 Tuning\n",
        "model_xgb=GridSearchCV(estimator=xgboost, param_grid=parameters,\n",
        "                     scoring='r2', cv=10, refit=True)\n",
        "\n",
        "model_xgb.fit(train_X,train_y)"
      ]
    },
    {
      "cell_type": "code",
      "execution_count": 21,
      "metadata": {
        "colab": {
          "base_uri": "https://localhost:8080/"
        },
        "id": "KhMjApon3FqT",
        "outputId": "c384bbfd-4213-4fe6-ceaa-715d4e09315f"
      },
      "outputs": [
        {
          "output_type": "execute_result",
          "data": {
            "text/plain": [
              "{'gamma': 2,\n",
              " 'learning_rate': 0.001,\n",
              " 'max_depth': 5,\n",
              " 'n_estimators': 200,\n",
              " 'random_state': 1}"
            ]
          },
          "metadata": {},
          "execution_count": 21
        }
      ],
      "source": [
        "model_xgb.best_params_"
      ]
    },
    {
      "cell_type": "markdown",
      "metadata": {
        "id": "Q2VvxVHS3FqT"
      },
      "source": [
        "### 4. LGBMClassifier"
      ]
    },
    {
      "cell_type": "code",
      "execution_count": 22,
      "metadata": {
        "colab": {
          "base_uri": "https://localhost:8080/"
        },
        "id": "LeFEXQa-3FqT",
        "outputId": "55f492d0-d8f5-406d-9c2c-27d1c98b3bdd"
      },
      "outputs": [
        {
          "output_type": "execute_result",
          "data": {
            "text/plain": [
              "GridSearchCV(cv=10, estimator=LGBMClassifier(),\n",
              "             param_grid={'learning_rate': [0.001, 0.01, 0.1, 1],\n",
              "                         'max_depth': [3, 5, 10],\n",
              "                         'n_estimators': [100, 200, 300], 'random_state': [1]},\n",
              "             scoring='r2')"
            ]
          },
          "metadata": {},
          "execution_count": 22
        }
      ],
      "source": [
        "from lightgbm import LGBMClassifier # sklearn 라이브러리에서 가져오는게 아니다.\n",
        "\n",
        "# 객체 선언\n",
        "lightgbm=LGBMClassifier() # 회귀모델\n",
        "\n",
        "# train 데이터에 대해서 학습진행\n",
        "lightgbm.fit(train_X, train_y)\n",
        "\n",
        "# HyperParameter 후보군\n",
        "parameters={'max_depth':[3,5,10],\n",
        "            'n_estimators':[100,200,300],\n",
        "            'learning_rate':[1e-3,0.01,0.1,1],\n",
        "            'random_state':[1]}\n",
        "\n",
        "# HyperParameter를 Tuning\n",
        "model_lgbm=GridSearchCV(estimator=lightgbm, param_grid=parameters,\n",
        "                     scoring='r2', cv=10, refit=True)\n",
        "\n",
        "# 객체는 이전에 'refit=True'에 의해 생성되었기에, 바로 train 데이터에 대한 학습을 진행하면 된다.\n",
        "model_lgbm.fit(train_X,train_y)"
      ]
    },
    {
      "cell_type": "code",
      "execution_count": 23,
      "metadata": {
        "colab": {
          "base_uri": "https://localhost:8080/"
        },
        "id": "gxz4JtFI3FqT",
        "outputId": "4c712ff6-d529-4da7-bd36-57b8b6a517a9"
      },
      "outputs": [
        {
          "output_type": "execute_result",
          "data": {
            "text/plain": [
              "{'learning_rate': 0.1, 'max_depth': 5, 'n_estimators': 300, 'random_state': 1}"
            ]
          },
          "metadata": {},
          "execution_count": 23
        }
      ],
      "source": [
        "model_lgbm.best_params_"
      ]
    },
    {
      "cell_type": "markdown",
      "metadata": {
        "id": "JnUjmF4w3FqT"
      },
      "source": [
        "## 모델 평가"
      ]
    },
    {
      "cell_type": "markdown",
      "metadata": {
        "id": "oaON1Eqh3FqT"
      },
      "source": [
        "학습데이터로 평가했을 때 가장 좋은 성능을 보인 하이퍼 파라미터값의 DecisionTree, RandomForest, XGBoost, LightGBM모델을 테스트 데이터로 평가\n",
        "* 서로 다른 분류모형을 비교할 때, 사용하는 평가지표 : Accuracy, Recall, Precision ,F1-Score"
      ]
    },
    {
      "cell_type": "code",
      "execution_count": 26,
      "metadata": {
        "id": "9-4libr73FqT"
      },
      "outputs": [],
      "source": [
        "from sklearn.metrics import accuracy_score,recall_score,precision_score,f1_score"
      ]
    },
    {
      "cell_type": "markdown",
      "metadata": {
        "id": "M8nSuh1H3FqT"
      },
      "source": [
        "앞선 GridSearchCV(refit=True)를 하여 최적의 hyper-parameter에 대한 모델객체를 생성하고, model.fit(train_X)로 학습도 시켰기에 그 결과인 (model_dt, model_rfc, model_xgb, model_lgbm)를 따로 '객체선언,학습' 할 필요없이 바로 써주면 된다."
      ]
    },
    {
      "cell_type": "markdown",
      "metadata": {
        "id": "W6yAwLgy3FqT"
      },
      "source": [
        "##### 일단 Train 데이터에 대해서 확인\n",
        "\n"
      ]
    },
    {
      "cell_type": "code",
      "execution_count": 27,
      "metadata": {
        "colab": {
          "base_uri": "https://localhost:8080/"
        },
        "id": "gDB3_tr83FqT",
        "outputId": "96283988-9065-422f-a479-915fbd4a3c0d"
      },
      "outputs": [
        {
          "output_type": "stream",
          "name": "stdout",
          "text": [
            "DecisionTree model : 0.842\n",
            "RandomForest model : 0.836\n",
            "XGBoost model : 0.691\n",
            "LightGBM model : 1.000\n"
          ]
        }
      ],
      "source": [
        "# 'Train데이터 전부'에 대해 각 모델별 f1-score값 확인\n",
        "\n",
        "print(\"DecisionTree model : {:.3f}\".format(f1_score(train_y, model_dt.predict(train_X))))\n",
        "print(\"RandomForest model : {:.3f}\".format(f1_score(train_y, model_rfc.predict(train_X))))\n",
        "print(\"XGBoost model : {:.3f}\".format(f1_score(train_y, model_xgb.predict(train_X))))\n",
        "print(\"LightGBM model : {:.3f}\".format(f1_score(train_y, model_lgbm.predict(train_X))))"
      ]
    },
    {
      "cell_type": "markdown",
      "metadata": {
        "id": "6ST6hbjy3FqT"
      },
      "source": [
        "F1-Score가 높을수록 좋은 모델임으로 다음순으로 모델 성능이 좋다.\n",
        "1. LightGBM\n",
        "2. DecisionTree\n",
        "3. RandomForest\n",
        "4. XGBoost"
      ]
    },
    {
      "cell_type": "code",
      "execution_count": 28,
      "metadata": {
        "colab": {
          "base_uri": "https://localhost:8080/"
        },
        "id": "121aIhHi3FqU",
        "outputId": "e77a4d17-646f-43d5-e47b-08d29053212d"
      },
      "outputs": [
        {
          "output_type": "stream",
          "name": "stdout",
          "text": [
            "DecisionTree model : 0.417\n",
            "RandomForest model : 0.339\n",
            "XGBoost model : 0.029\n",
            "LightGBM model : 0.089\n"
          ]
        }
      ],
      "source": [
        "# GridSearchCV()를 진행하여 교차검증을 수행할 때, '일부의 Train데이터인 Validation데이터'에 각 모델별 f1-score값 확인\n",
        "# f1-score의 경우에 서로 다른 분류모델끼리 성능비교가 가능한 지표이다.\n",
        "\n",
        "print(\"DecisionTree model : {:.3f}\".format(model_dt.best_score_))\n",
        "print(\"RandomForest model : {:.3f}\".format(model_rfc.best_score_))\n",
        "print(\"XGBoost model : {:.3f}\".format(model_xgb.best_score_))\n",
        "print(\"LightGBM model : {:.3f}\".format(model_lgbm.best_score_))"
      ]
    },
    {
      "cell_type": "markdown",
      "metadata": {
        "id": "JCITkY32AXkF"
      },
      "source": [
        "F1-Score가 높을수록 좋은 모델임으로 다음순으로 모델 성능이 좋다.\n",
        "1. XGBoost\n",
        "2. DecisionTree\n",
        "3. RandomForest, LightGBM"
      ]
    },
    {
      "cell_type": "markdown",
      "metadata": {
        "id": "yerhGXhr3FqU"
      },
      "source": [
        "##### Test 데이터에 대해서 평가"
      ]
    },
    {
      "cell_type": "code",
      "execution_count": 29,
      "metadata": {
        "colab": {
          "base_uri": "https://localhost:8080/"
        },
        "id": "GuK1XV7L3FqU",
        "outputId": "e349b0bb-ce1b-48f9-898e-ea364bbdc8da"
      },
      "outputs": [
        {
          "output_type": "stream",
          "name": "stdout",
          "text": [
            "DecisionTree model : 0.974\n",
            "RandomForest model : 0.981\n",
            "XGBoost model : 0.981\n",
            "LightGBM model : 0.981\n"
          ]
        }
      ],
      "source": [
        "# 'Test데이터'에 대해 각 모델별 accuracy_score값 확인\n",
        "\n",
        "print(\"DecisionTree model : {:.3f}\".format(accuracy_score(test_y, model_dt.predict(test_X))))\n",
        "print(\"RandomForest model : {:.3f}\".format(accuracy_score(test_y, model_rfc.predict(test_X))))\n",
        "print(\"XGBoost model : {:.3f}\".format(accuracy_score(test_y, model_xgb.predict(test_X))))\n",
        "print(\"LightGBM model : {:.3f}\".format(accuracy_score(test_y, model_lgbm.predict(test_X))))"
      ]
    },
    {
      "cell_type": "code",
      "execution_count": 30,
      "metadata": {
        "colab": {
          "base_uri": "https://localhost:8080/"
        },
        "id": "e5FbAHy0B3Aq",
        "outputId": "6d73d5cd-f506-4d00-b1bb-989f3223cf93"
      },
      "outputs": [
        {
          "output_type": "stream",
          "name": "stdout",
          "text": [
            "DecisionTree model : 0.375\n",
            "RandomForest model : 0.375\n",
            "XGBoost model : 0.500\n",
            "LightGBM model : 0.625\n"
          ]
        }
      ],
      "source": [
        "# 'Test데이터'에 대해 각 모델별 recall_score 확인\n",
        "\n",
        "print(\"DecisionTree model : {:.3f}\".format(recall_score(test_y, model_dt.predict(test_X))))\n",
        "print(\"RandomForest model : {:.3f}\".format(recall_score(test_y, model_rfc.predict(test_X))))\n",
        "print(\"XGBoost model : {:.3f}\".format(recall_score(test_y, model_xgb.predict(test_X))))\n",
        "print(\"LightGBM model : {:.3f}\".format(recall_score(test_y, model_lgbm.predict(test_X))))"
      ]
    },
    {
      "cell_type": "code",
      "execution_count": 31,
      "metadata": {
        "colab": {
          "base_uri": "https://localhost:8080/"
        },
        "id": "fouJzaaeB3Y0",
        "outputId": "138bb692-3fb2-4f66-d413-138cb4fe6a62"
      },
      "outputs": [
        {
          "output_type": "stream",
          "name": "stdout",
          "text": [
            "DecisionTree model : 0.600\n",
            "RandomForest model : 1.000\n",
            "XGBoost model : 0.800\n",
            "LightGBM model : 0.714\n"
          ]
        }
      ],
      "source": [
        "# 'Test데이터'에 대해 각 모델별 precision_score 확인\n",
        "\n",
        "print(\"DecisionTree model : {:.3f}\".format(precision_score(test_y, model_dt.predict(test_X))))\n",
        "print(\"RandomForest model : {:.3f}\".format(precision_score(test_y, model_rfc.predict(test_X))))\n",
        "print(\"XGBoost model : {:.3f}\".format(precision_score(test_y, model_xgb.predict(test_X))))\n",
        "print(\"LightGBM model : {:.3f}\".format(precision_score(test_y, model_lgbm.predict(test_X))))"
      ]
    },
    {
      "cell_type": "code",
      "execution_count": 32,
      "metadata": {
        "colab": {
          "base_uri": "https://localhost:8080/"
        },
        "id": "QvuAM9sEB3xG",
        "outputId": "01acd37d-822d-4940-8266-8aa9958abb31"
      },
      "outputs": [
        {
          "output_type": "stream",
          "name": "stdout",
          "text": [
            "DecisionTree model : 0.462\n",
            "RandomForest model : 0.545\n",
            "XGBoost model : 0.615\n",
            "LightGBM model : 0.667\n"
          ]
        }
      ],
      "source": [
        "# 'Test데이터'에 대해 각 모델별 f1_score 확인\n",
        "\n",
        "print(\"DecisionTree model : {:.3f}\".format(f1_score(test_y, model_dt.predict(test_X))))\n",
        "print(\"RandomForest model : {:.3f}\".format(f1_score(test_y, model_rfc.predict(test_X))))\n",
        "print(\"XGBoost model : {:.3f}\".format(f1_score(test_y, model_xgb.predict(test_X))))\n",
        "print(\"LightGBM model : {:.3f}\".format(f1_score(test_y, model_lgbm.predict(test_X))))"
      ]
    },
    {
      "cell_type": "markdown",
      "metadata": {
        "id": "mUdqUqLh3FqU"
      },
      "source": [
        "분류의 경우, 각 평가함수들은 목적에 따라 다르게 사용해야한다.\n",
        "\n",
        "따라서 해당 문제의 경우, y값인 'hour_bef_precipitation'에서 비오는 것(1)과 비가 오지 않는 것(0) 중 어떤 것이 중요한지 생각하여 평가해야한다.\n",
        "\n",
        "예를 들면,\n",
        "\n",
        "Positive(1=비가옴)인 데이터를 Negative(0=비가안옴)로 잘못 판단하는 것이 큰 문제인 경우 재현율이 상대적으로 더 중요해지며, Negative(0=비가안옴)인 데이터를 Positive(1=비가옴)로 잘못 판단하는 것이 큰 문제인 경우 정밀도가더 중요해진다.\n",
        "\n",
        "아래 글 참고\n",
        "> https://ek-koh.github.io/data%20analysis/evaluation/"
      ]
    },
    {
      "cell_type": "markdown",
      "metadata": {
        "id": "GzfCUwhbJ5c3"
      },
      "source": [
        "위 평가지표와 글을 보고 모델을 비교하여 서술"
      ]
    },
    {
      "cell_type": "markdown",
      "metadata": {
        "id": "B_G8E_YtKKKY"
      },
      "source": [
        "자전거를 타러 나갈 때 비가 안 올 것이라고 생각했는데 비가 오게 되면 난감할 것이다. 따라서 negative라고 판단했을 때 True의 비율이 높은 것이 중요하다. 이에 정밀도가 중요한 평가지표가 될 것이다. 그렇기 때문에 정밀도가 가장 높게 나온 Random Forest 모델이 분류에 가장 적절한 모델이 될 것이다. "
      ]
    },
    {
      "cell_type": "markdown",
      "metadata": {
        "id": "9sksmjlgG4PG"
      },
      "source": [
        "# 더 공부하고 싶으신 분들을 위한 자료\n"
      ]
    },
    {
      "cell_type": "markdown",
      "metadata": {
        "id": "GfwpE2FfIKmb"
      },
      "source": [
        "**Chapter 6 – Decision Trees**"
      ]
    },
    {
      "cell_type": "markdown",
      "metadata": {
        "id": "ow8QSXOQIJOD"
      },
      "source": [
        "<table align=\"left\">\n",
        "  <td>\n",
        "    <a href=\"https://colab.research.google.com/github/ageron/handson-ml2/blob/master/06_decision_trees.ipynb\" target=\"_parent\"><img src=\"https://colab.research.google.com/assets/colab-badge.svg\" alt=\"Open In Colab\"/></a>\n",
        "  </td>\n",
        "  <td>\n",
        "    <a target=\"_blank\" href=\"https://kaggle.com/kernels/welcome?src=https://github.com/ageron/handson-ml2/blob/master/06_decision_trees.ipynb\"><img src=\"https://kaggle.com/static/images/open-in-kaggle.svg\" /></a>\n",
        "  </td>\n",
        "</table>"
      ]
    },
    {
      "cell_type": "markdown",
      "metadata": {
        "id": "BQ_2UMPvIDAS"
      },
      "source": [
        "**Chapter 7 – Ensemble Learning and Random Forests**"
      ]
    },
    {
      "cell_type": "markdown",
      "metadata": {
        "id": "M9LrvdhtIOHI"
      },
      "source": [
        "<table align=\"left\">\n",
        "  <td>\n",
        "    <a href=\"https://colab.research.google.com/github/ageron/handson-ml2/blob/master/07_ensemble_learning_and_random_forests.ipynb\" target=\"_parent\"><img src=\"https://colab.research.google.com/assets/colab-badge.svg\" alt=\"Open In Colab\"/></a>\n",
        "  </td>\n",
        "  <td>\n",
        "    <a target=\"_blank\" href=\"https://kaggle.com/kernels/welcome?src=https://github.com/ageron/handson-ml2/blob/master/07_ensemble_learning_and_random_forests.ipynb\"><img src=\"https://kaggle.com/static/images/open-in-kaggle.svg\" /></a>\n",
        "  </td>\n",
        "</table>"
      ]
    },
    {
      "cell_type": "markdown",
      "metadata": {
        "id": "IY_RomaUIYLV"
      },
      "source": [
        "# 수고하셨습니다."
      ]
    }
  ],
  "metadata": {
    "colab": {
      "collapsed_sections": [
        "ZBe8lvybK0Qo",
        "5CmGR443K3N6",
        "-PK_SgA0jo53",
        "bxUfklCPDJA_",
        "6tSOZTPhY6OC",
        "LzzhW0-FnioQ",
        "zC1RTPzYm7j7",
        "istkrmkot6dh",
        "xu5vd0RiyVQP",
        "D5k8ZjgRy4Sb",
        "5UM-4KqmzQcL",
        "aeo8QtItR431",
        "Ou39ZurlgYqd",
        "NS2R-LR43FqO",
        "w_UfEjfm3FqP",
        "MuczbqWP3FqR",
        "1geA0UQU3FqS",
        "N6zlki-G3FqS",
        "piaOnShF3FqS",
        "Q2VvxVHS3FqT",
        "JnUjmF4w3FqT",
        "W6yAwLgy3FqT",
        "yerhGXhr3FqU",
        "9sksmjlgG4PG"
      ],
      "provenance": []
    },
    "kernelspec": {
      "display_name": "Python 3",
      "name": "python3"
    },
    "language_info": {
      "name": "python"
    }
  },
  "nbformat": 4,
  "nbformat_minor": 0
}